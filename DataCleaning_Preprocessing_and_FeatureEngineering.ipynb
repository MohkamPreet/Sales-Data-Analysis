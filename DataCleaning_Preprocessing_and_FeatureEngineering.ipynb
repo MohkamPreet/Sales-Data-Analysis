{
 "cells": [
  {
   "cell_type": "markdown",
   "metadata": {},
   "source": [
    "Importing the Required Packages"
   ]
  },
  {
   "cell_type": "code",
   "execution_count": 1,
   "metadata": {},
   "outputs": [],
   "source": [
    "import numpy as np\n",
    "import pandas as pd\n",
    "from sklearn.preprocessing import OneHotEncoder\n",
    "from sklearn.preprocessing import StandardScaler\n",
    "from sklearn.model_selection import train_test_split"
   ]
  },
  {
   "cell_type": "markdown",
   "metadata": {},
   "source": [
    "Loading the dataset into the notebooks"
   ]
  },
  {
   "cell_type": "code",
   "execution_count": 2,
   "metadata": {},
   "outputs": [
    {
     "data": {
      "text/html": [
       "<div>\n",
       "<style scoped>\n",
       "    .dataframe tbody tr th:only-of-type {\n",
       "        vertical-align: middle;\n",
       "    }\n",
       "\n",
       "    .dataframe tbody tr th {\n",
       "        vertical-align: top;\n",
       "    }\n",
       "\n",
       "    .dataframe thead th {\n",
       "        text-align: right;\n",
       "    }\n",
       "</style>\n",
       "<table border=\"1\" class=\"dataframe\">\n",
       "  <thead>\n",
       "    <tr style=\"text-align: right;\">\n",
       "      <th></th>\n",
       "      <th>Transaction_ID</th>\n",
       "      <th>Customer_ID</th>\n",
       "      <th>Name</th>\n",
       "      <th>Email</th>\n",
       "      <th>Phone</th>\n",
       "      <th>Address</th>\n",
       "      <th>City</th>\n",
       "      <th>State</th>\n",
       "      <th>Zipcode</th>\n",
       "      <th>Country</th>\n",
       "      <th>...</th>\n",
       "      <th>Total_Amount</th>\n",
       "      <th>Product_Category</th>\n",
       "      <th>Product_Brand</th>\n",
       "      <th>Product_Type</th>\n",
       "      <th>Feedback</th>\n",
       "      <th>Shipping_Method</th>\n",
       "      <th>Payment_Method</th>\n",
       "      <th>Order_Status</th>\n",
       "      <th>Ratings</th>\n",
       "      <th>products</th>\n",
       "    </tr>\n",
       "  </thead>\n",
       "  <tbody>\n",
       "    <tr>\n",
       "      <th>0</th>\n",
       "      <td>8691788.0</td>\n",
       "      <td>37249.0</td>\n",
       "      <td>Michelle Harrington</td>\n",
       "      <td>Ebony39@gmail.com</td>\n",
       "      <td>1.414787e+09</td>\n",
       "      <td>3959 Amanda Burgs</td>\n",
       "      <td>Dortmund</td>\n",
       "      <td>Berlin</td>\n",
       "      <td>77985.0</td>\n",
       "      <td>Germany</td>\n",
       "      <td>...</td>\n",
       "      <td>324.086270</td>\n",
       "      <td>Clothing</td>\n",
       "      <td>Nike</td>\n",
       "      <td>Shorts</td>\n",
       "      <td>Excellent</td>\n",
       "      <td>Same-Day</td>\n",
       "      <td>Debit Card</td>\n",
       "      <td>Shipped</td>\n",
       "      <td>5.0</td>\n",
       "      <td>Cycling shorts</td>\n",
       "    </tr>\n",
       "    <tr>\n",
       "      <th>1</th>\n",
       "      <td>2174773.0</td>\n",
       "      <td>69749.0</td>\n",
       "      <td>Kelsey Hill</td>\n",
       "      <td>Mark36@gmail.com</td>\n",
       "      <td>6.852900e+09</td>\n",
       "      <td>82072 Dawn Centers</td>\n",
       "      <td>Nottingham</td>\n",
       "      <td>England</td>\n",
       "      <td>99071.0</td>\n",
       "      <td>UK</td>\n",
       "      <td>...</td>\n",
       "      <td>806.707815</td>\n",
       "      <td>Electronics</td>\n",
       "      <td>Samsung</td>\n",
       "      <td>Tablet</td>\n",
       "      <td>Excellent</td>\n",
       "      <td>Standard</td>\n",
       "      <td>Credit Card</td>\n",
       "      <td>Processing</td>\n",
       "      <td>4.0</td>\n",
       "      <td>Lenovo Tab</td>\n",
       "    </tr>\n",
       "    <tr>\n",
       "      <th>2</th>\n",
       "      <td>6679610.0</td>\n",
       "      <td>30192.0</td>\n",
       "      <td>Scott Jensen</td>\n",
       "      <td>Shane85@gmail.com</td>\n",
       "      <td>8.362160e+09</td>\n",
       "      <td>4133 Young Canyon</td>\n",
       "      <td>Geelong</td>\n",
       "      <td>New South Wales</td>\n",
       "      <td>75929.0</td>\n",
       "      <td>Australia</td>\n",
       "      <td>...</td>\n",
       "      <td>1063.432799</td>\n",
       "      <td>Books</td>\n",
       "      <td>Penguin Books</td>\n",
       "      <td>Children's</td>\n",
       "      <td>Average</td>\n",
       "      <td>Same-Day</td>\n",
       "      <td>Credit Card</td>\n",
       "      <td>Processing</td>\n",
       "      <td>2.0</td>\n",
       "      <td>Sports equipment</td>\n",
       "    </tr>\n",
       "    <tr>\n",
       "      <th>3</th>\n",
       "      <td>7232460.0</td>\n",
       "      <td>62101.0</td>\n",
       "      <td>Joseph Miller</td>\n",
       "      <td>Mary34@gmail.com</td>\n",
       "      <td>2.776752e+09</td>\n",
       "      <td>8148 Thomas Creek Suite 100</td>\n",
       "      <td>Edmonton</td>\n",
       "      <td>Ontario</td>\n",
       "      <td>88420.0</td>\n",
       "      <td>Canada</td>\n",
       "      <td>...</td>\n",
       "      <td>2466.854021</td>\n",
       "      <td>Home Decor</td>\n",
       "      <td>Home Depot</td>\n",
       "      <td>Tools</td>\n",
       "      <td>Excellent</td>\n",
       "      <td>Standard</td>\n",
       "      <td>PayPal</td>\n",
       "      <td>Processing</td>\n",
       "      <td>4.0</td>\n",
       "      <td>Utility knife</td>\n",
       "    </tr>\n",
       "    <tr>\n",
       "      <th>4</th>\n",
       "      <td>4983775.0</td>\n",
       "      <td>27901.0</td>\n",
       "      <td>Debra Coleman</td>\n",
       "      <td>Charles30@gmail.com</td>\n",
       "      <td>9.098268e+09</td>\n",
       "      <td>5813 Lori Ports Suite 269</td>\n",
       "      <td>Bristol</td>\n",
       "      <td>England</td>\n",
       "      <td>48704.0</td>\n",
       "      <td>UK</td>\n",
       "      <td>...</td>\n",
       "      <td>248.553049</td>\n",
       "      <td>Grocery</td>\n",
       "      <td>Nestle</td>\n",
       "      <td>Chocolate</td>\n",
       "      <td>Bad</td>\n",
       "      <td>Standard</td>\n",
       "      <td>Cash</td>\n",
       "      <td>Shipped</td>\n",
       "      <td>1.0</td>\n",
       "      <td>Chocolate cookies</td>\n",
       "    </tr>\n",
       "  </tbody>\n",
       "</table>\n",
       "<p>5 rows × 30 columns</p>\n",
       "</div>"
      ],
      "text/plain": [
       "   Transaction_ID  Customer_ID                 Name                Email  \\\n",
       "0       8691788.0      37249.0  Michelle Harrington    Ebony39@gmail.com   \n",
       "1       2174773.0      69749.0          Kelsey Hill     Mark36@gmail.com   \n",
       "2       6679610.0      30192.0         Scott Jensen    Shane85@gmail.com   \n",
       "3       7232460.0      62101.0        Joseph Miller     Mary34@gmail.com   \n",
       "4       4983775.0      27901.0        Debra Coleman  Charles30@gmail.com   \n",
       "\n",
       "          Phone                      Address        City            State  \\\n",
       "0  1.414787e+09            3959 Amanda Burgs    Dortmund           Berlin   \n",
       "1  6.852900e+09           82072 Dawn Centers  Nottingham          England   \n",
       "2  8.362160e+09            4133 Young Canyon     Geelong  New South Wales   \n",
       "3  2.776752e+09  8148 Thomas Creek Suite 100    Edmonton          Ontario   \n",
       "4  9.098268e+09    5813 Lori Ports Suite 269     Bristol          England   \n",
       "\n",
       "   Zipcode    Country  ...  Total_Amount Product_Category  Product_Brand  \\\n",
       "0  77985.0    Germany  ...    324.086270         Clothing           Nike   \n",
       "1  99071.0         UK  ...    806.707815      Electronics        Samsung   \n",
       "2  75929.0  Australia  ...   1063.432799            Books  Penguin Books   \n",
       "3  88420.0     Canada  ...   2466.854021       Home Decor     Home Depot   \n",
       "4  48704.0         UK  ...    248.553049          Grocery         Nestle   \n",
       "\n",
       "  Product_Type   Feedback  Shipping_Method Payment_Method Order_Status  \\\n",
       "0       Shorts  Excellent         Same-Day     Debit Card      Shipped   \n",
       "1       Tablet  Excellent         Standard    Credit Card   Processing   \n",
       "2   Children's    Average         Same-Day    Credit Card   Processing   \n",
       "3        Tools  Excellent         Standard         PayPal   Processing   \n",
       "4    Chocolate        Bad         Standard           Cash      Shipped   \n",
       "\n",
       "   Ratings           products  \n",
       "0      5.0     Cycling shorts  \n",
       "1      4.0         Lenovo Tab  \n",
       "2      2.0   Sports equipment  \n",
       "3      4.0      Utility knife  \n",
       "4      1.0  Chocolate cookies  \n",
       "\n",
       "[5 rows x 30 columns]"
      ]
     },
     "execution_count": 2,
     "metadata": {},
     "output_type": "execute_result"
    }
   ],
   "source": [
    "# Loading the dataset\n",
    "dataset = pd.read_csv(\"Data/new_retail_data.csv\")\n",
    "\n",
    "# Printing the top 5 rows of the dataset\n",
    "dataset.head()"
   ]
  },
  {
   "cell_type": "code",
   "execution_count": 3,
   "metadata": {},
   "outputs": [
    {
     "name": "stdout",
     "output_type": "stream",
     "text": [
      "Shape of the dataset: (302010, 30)\n"
     ]
    }
   ],
   "source": [
    "init_shape = dataset.shape\n",
    "print(f\"Shape of the dataset: {init_shape}\")"
   ]
  },
  {
   "cell_type": "markdown",
   "metadata": {},
   "source": [
    "# Data Cleaning and Preprocessing"
   ]
  },
  {
   "cell_type": "markdown",
   "metadata": {},
   "source": [
    "1. Identification and Handling of Missing values"
   ]
  },
  {
   "cell_type": "code",
   "execution_count": 4,
   "metadata": {},
   "outputs": [
    {
     "name": "stdout",
     "output_type": "stream",
     "text": [
      "Number of missing values in the dataset: \n",
      "Transaction_ID      333\n",
      "Customer_ID         308\n",
      "Name                382\n",
      "Email               347\n",
      "Phone               362\n",
      "Address             315\n",
      "City                248\n",
      "State               281\n",
      "Zipcode             340\n",
      "Country             271\n",
      "Age                 173\n",
      "Gender              317\n",
      "Income              290\n",
      "Customer_Segment    215\n",
      "Date                359\n",
      "Year                350\n",
      "Month               273\n",
      "Time                350\n",
      "Total_Purchases     361\n",
      "Amount              357\n",
      "Total_Amount        350\n",
      "Product_Category    283\n",
      "Product_Brand       281\n",
      "Product_Type          0\n",
      "Feedback            184\n",
      "Shipping_Method     337\n",
      "Payment_Method      297\n",
      "Order_Status        235\n",
      "Ratings             184\n",
      "products              0\n",
      "dtype: int64\n"
     ]
    }
   ],
   "source": [
    "# Number of missing values in each column\n",
    "print(f\"Number of missing values in the dataset: \\n{dataset.isnull().sum()}\")"
   ]
  },
  {
   "cell_type": "code",
   "execution_count": 5,
   "metadata": {},
   "outputs": [],
   "source": [
    "# Handling the missing values according to their data types and their Distribution\n",
    "\n",
    "# Rows that needed to be dropped\n",
    "drop_rows = [\"Transaction_ID\", \"Customer_ID\", \"Name\",\n",
    "             \"Email\", \"Phone\", \"Address\", \"Date\", \"Year\",\n",
    "             \"Month\", \"Time\", \"Product_Brand\", \"Order_Status\"]\n",
    "for col in drop_rows:\n",
    "    dataset = dataset[dataset[col].notna()]\n",
    "\n",
    "# Categorical Columns  \n",
    "mode_col = [\"City\", \"State\", \"Zipcode\", \"Country\", \"Gender\", \"Income\",\n",
    "            \"Customer_Segment\", \"Total_Purchases\", \"Product_Category\",\n",
    "            \"Feedback\", \"Shipping_Method\", \"Payment_Method\"]\n",
    "for col in mode_col:\n",
    "    dataset[col] = dataset[col].fillna(dataset[col].mode()[0])\n",
    "\n",
    "# Continous Columns and that are sensetive to outliers\n",
    "median_col = [\"Age\", \"Amount\", \"Total_Amount\", \"Ratings\"]\n",
    "for col in median_col:\n",
    "    dataset[col] = dataset[col].fillna(dataset[col].median())"
   ]
  },
  {
   "cell_type": "code",
   "execution_count": 6,
   "metadata": {},
   "outputs": [
    {
     "name": "stdout",
     "output_type": "stream",
     "text": [
      "Shape of the dataset after handling missing values: (298141, 30)\n"
     ]
    }
   ],
   "source": [
    "print(f\"Shape of the dataset after handling missing values: {dataset.shape}\")"
   ]
  },
  {
   "cell_type": "code",
   "execution_count": 7,
   "metadata": {},
   "outputs": [
    {
     "name": "stdout",
     "output_type": "stream",
     "text": [
      "Number of the rows that are removed: 3869\n"
     ]
    }
   ],
   "source": [
    "print(f\"Number of the rows that are removed: {init_shape[0] - dataset.shape[0]}\")"
   ]
  },
  {
   "cell_type": "code",
   "execution_count": 8,
   "metadata": {},
   "outputs": [
    {
     "data": {
      "text/plain": [
       "Transaction_ID      0\n",
       "Customer_ID         0\n",
       "Name                0\n",
       "Email               0\n",
       "Phone               0\n",
       "Address             0\n",
       "City                0\n",
       "State               0\n",
       "Zipcode             0\n",
       "Country             0\n",
       "Age                 0\n",
       "Gender              0\n",
       "Income              0\n",
       "Customer_Segment    0\n",
       "Date                0\n",
       "Year                0\n",
       "Month               0\n",
       "Time                0\n",
       "Total_Purchases     0\n",
       "Amount              0\n",
       "Total_Amount        0\n",
       "Product_Category    0\n",
       "Product_Brand       0\n",
       "Product_Type        0\n",
       "Feedback            0\n",
       "Shipping_Method     0\n",
       "Payment_Method      0\n",
       "Order_Status        0\n",
       "Ratings             0\n",
       "products            0\n",
       "dtype: int64"
      ]
     },
     "execution_count": 8,
     "metadata": {},
     "output_type": "execute_result"
    }
   ],
   "source": [
    "# Data after handling missing values\n",
    "dataset.isnull().sum()"
   ]
  },
  {
   "cell_type": "markdown",
   "metadata": {},
   "source": [
    "2. Error Correction and Inconsistencies"
   ]
  },
  {
   "cell_type": "code",
   "execution_count": 9,
   "metadata": {},
   "outputs": [
    {
     "name": "stdout",
     "output_type": "stream",
     "text": [
      "Name of the columns: ['Transaction_ID' 'Customer_ID' 'Name' 'Email' 'Phone' 'Address' 'City'\n",
      " 'State' 'Zipcode' 'Country' 'Age' 'Gender' 'Income' 'Customer_Segment'\n",
      " 'Date' 'Year' 'Month' 'Time' 'Total_Purchases' 'Amount' 'Total_Amount'\n",
      " 'Product_Category' 'Product_Brand' 'Product_Type' 'Feedback'\n",
      " 'Shipping_Method' 'Payment_Method' 'Order_Status' 'Ratings' 'products']\n"
     ]
    }
   ],
   "source": [
    "print(f\"Name of the columns: {dataset.columns.values}\")"
   ]
  },
  {
   "cell_type": "markdown",
   "metadata": {},
   "source": [
    "Changing the name of few columns to make them meaningful"
   ]
  },
  {
   "cell_type": "code",
   "execution_count": 10,
   "metadata": {},
   "outputs": [],
   "source": [
    "dataset.rename(columns = {\n",
    "    \"Total_Purchases\": \"Quantity\",\n",
    "    \"Amount\": \"Price_per_unit\"\n",
    "}, inplace = True)"
   ]
  },
  {
   "cell_type": "code",
   "execution_count": 11,
   "metadata": {},
   "outputs": [
    {
     "data": {
      "text/html": [
       "<div>\n",
       "<style scoped>\n",
       "    .dataframe tbody tr th:only-of-type {\n",
       "        vertical-align: middle;\n",
       "    }\n",
       "\n",
       "    .dataframe tbody tr th {\n",
       "        vertical-align: top;\n",
       "    }\n",
       "\n",
       "    .dataframe thead th {\n",
       "        text-align: right;\n",
       "    }\n",
       "</style>\n",
       "<table border=\"1\" class=\"dataframe\">\n",
       "  <thead>\n",
       "    <tr style=\"text-align: right;\">\n",
       "      <th></th>\n",
       "      <th>Transaction_ID</th>\n",
       "      <th>Customer_ID</th>\n",
       "      <th>Phone</th>\n",
       "      <th>Zipcode</th>\n",
       "      <th>Age</th>\n",
       "      <th>Year</th>\n",
       "      <th>Quantity</th>\n",
       "      <th>Price_per_unit</th>\n",
       "      <th>Total_Amount</th>\n",
       "      <th>Ratings</th>\n",
       "    </tr>\n",
       "  </thead>\n",
       "  <tbody>\n",
       "    <tr>\n",
       "      <th>count</th>\n",
       "      <td>2.981410e+05</td>\n",
       "      <td>298141.000000</td>\n",
       "      <td>2.981410e+05</td>\n",
       "      <td>298141.000000</td>\n",
       "      <td>298141.000000</td>\n",
       "      <td>298141.000000</td>\n",
       "      <td>298141.000000</td>\n",
       "      <td>298141.000000</td>\n",
       "      <td>298141.000000</td>\n",
       "      <td>298141.000000</td>\n",
       "    </tr>\n",
       "    <tr>\n",
       "      <th>mean</th>\n",
       "      <td>5.494940e+06</td>\n",
       "      <td>55007.072902</td>\n",
       "      <td>5.500495e+09</td>\n",
       "      <td>50312.113359</td>\n",
       "      <td>35.478498</td>\n",
       "      <td>2023.165090</td>\n",
       "      <td>5.359431</td>\n",
       "      <td>255.194433</td>\n",
       "      <td>1367.431405</td>\n",
       "      <td>3.162618</td>\n",
       "    </tr>\n",
       "    <tr>\n",
       "      <th>std</th>\n",
       "      <td>2.596053e+06</td>\n",
       "      <td>26005.990411</td>\n",
       "      <td>2.595721e+09</td>\n",
       "      <td>28964.029875</td>\n",
       "      <td>15.015371</td>\n",
       "      <td>0.371262</td>\n",
       "      <td>2.866482</td>\n",
       "      <td>141.315801</td>\n",
       "      <td>1128.452562</td>\n",
       "      <td>1.320216</td>\n",
       "    </tr>\n",
       "    <tr>\n",
       "      <th>min</th>\n",
       "      <td>1.000007e+06</td>\n",
       "      <td>10000.000000</td>\n",
       "      <td>1.000049e+09</td>\n",
       "      <td>501.000000</td>\n",
       "      <td>18.000000</td>\n",
       "      <td>2023.000000</td>\n",
       "      <td>1.000000</td>\n",
       "      <td>10.000219</td>\n",
       "      <td>10.003750</td>\n",
       "      <td>1.000000</td>\n",
       "    </tr>\n",
       "    <tr>\n",
       "      <th>25%</th>\n",
       "      <td>3.246869e+06</td>\n",
       "      <td>32469.000000</td>\n",
       "      <td>3.254198e+09</td>\n",
       "      <td>25446.000000</td>\n",
       "      <td>22.000000</td>\n",
       "      <td>2023.000000</td>\n",
       "      <td>3.000000</td>\n",
       "      <td>133.032154</td>\n",
       "      <td>439.376483</td>\n",
       "      <td>2.000000</td>\n",
       "    </tr>\n",
       "    <tr>\n",
       "      <th>50%</th>\n",
       "      <td>5.497883e+06</td>\n",
       "      <td>55020.000000</td>\n",
       "      <td>5.504195e+09</td>\n",
       "      <td>50652.000000</td>\n",
       "      <td>32.000000</td>\n",
       "      <td>2023.000000</td>\n",
       "      <td>5.000000</td>\n",
       "      <td>255.497589</td>\n",
       "      <td>1041.252907</td>\n",
       "      <td>3.000000</td>\n",
       "    </tr>\n",
       "    <tr>\n",
       "      <th>75%</th>\n",
       "      <td>7.739315e+06</td>\n",
       "      <td>77506.000000</td>\n",
       "      <td>7.748878e+09</td>\n",
       "      <td>75212.000000</td>\n",
       "      <td>46.000000</td>\n",
       "      <td>2023.000000</td>\n",
       "      <td>8.000000</td>\n",
       "      <td>377.573261</td>\n",
       "      <td>2027.455133</td>\n",
       "      <td>4.000000</td>\n",
       "    </tr>\n",
       "    <tr>\n",
       "      <th>max</th>\n",
       "      <td>9.999995e+06</td>\n",
       "      <td>99999.000000</td>\n",
       "      <td>9.999996e+09</td>\n",
       "      <td>99949.000000</td>\n",
       "      <td>70.000000</td>\n",
       "      <td>2024.000000</td>\n",
       "      <td>10.000000</td>\n",
       "      <td>499.997911</td>\n",
       "      <td>4999.625796</td>\n",
       "      <td>5.000000</td>\n",
       "    </tr>\n",
       "  </tbody>\n",
       "</table>\n",
       "</div>"
      ],
      "text/plain": [
       "       Transaction_ID    Customer_ID         Phone        Zipcode  \\\n",
       "count    2.981410e+05  298141.000000  2.981410e+05  298141.000000   \n",
       "mean     5.494940e+06   55007.072902  5.500495e+09   50312.113359   \n",
       "std      2.596053e+06   26005.990411  2.595721e+09   28964.029875   \n",
       "min      1.000007e+06   10000.000000  1.000049e+09     501.000000   \n",
       "25%      3.246869e+06   32469.000000  3.254198e+09   25446.000000   \n",
       "50%      5.497883e+06   55020.000000  5.504195e+09   50652.000000   \n",
       "75%      7.739315e+06   77506.000000  7.748878e+09   75212.000000   \n",
       "max      9.999995e+06   99999.000000  9.999996e+09   99949.000000   \n",
       "\n",
       "                 Age           Year       Quantity  Price_per_unit  \\\n",
       "count  298141.000000  298141.000000  298141.000000   298141.000000   \n",
       "mean       35.478498    2023.165090       5.359431      255.194433   \n",
       "std        15.015371       0.371262       2.866482      141.315801   \n",
       "min        18.000000    2023.000000       1.000000       10.000219   \n",
       "25%        22.000000    2023.000000       3.000000      133.032154   \n",
       "50%        32.000000    2023.000000       5.000000      255.497589   \n",
       "75%        46.000000    2023.000000       8.000000      377.573261   \n",
       "max        70.000000    2024.000000      10.000000      499.997911   \n",
       "\n",
       "        Total_Amount        Ratings  \n",
       "count  298141.000000  298141.000000  \n",
       "mean     1367.431405       3.162618  \n",
       "std      1128.452562       1.320216  \n",
       "min        10.003750       1.000000  \n",
       "25%       439.376483       2.000000  \n",
       "50%      1041.252907       3.000000  \n",
       "75%      2027.455133       4.000000  \n",
       "max      4999.625796       5.000000  "
      ]
     },
     "execution_count": 11,
     "metadata": {},
     "output_type": "execute_result"
    }
   ],
   "source": [
    "dataset.describe()"
   ]
  },
  {
   "cell_type": "markdown",
   "metadata": {},
   "source": [
    "The Mean and Median of all the Numerical columns are almost identical (except: Total_Amount), it means:\n",
    "- Symmetry in Data Distribution: It indicates that the data is likely symmetrically distributed around the central value.\n",
    "- Lack of Skewness: it suggests that the distribution has little to no skew.\n",
    "- Robustness to Outliers: It implies that there are no extreme outliers."
   ]
  },
  {
   "cell_type": "code",
   "execution_count": 12,
   "metadata": {},
   "outputs": [
    {
     "name": "stdout",
     "output_type": "stream",
     "text": [
      "<class 'pandas.core.frame.DataFrame'>\n",
      "Index: 298141 entries, 0 to 302009\n",
      "Data columns (total 30 columns):\n",
      " #   Column            Non-Null Count   Dtype  \n",
      "---  ------            --------------   -----  \n",
      " 0   Transaction_ID    298141 non-null  float64\n",
      " 1   Customer_ID       298141 non-null  float64\n",
      " 2   Name              298141 non-null  object \n",
      " 3   Email             298141 non-null  object \n",
      " 4   Phone             298141 non-null  float64\n",
      " 5   Address           298141 non-null  object \n",
      " 6   City              298141 non-null  object \n",
      " 7   State             298141 non-null  object \n",
      " 8   Zipcode           298141 non-null  float64\n",
      " 9   Country           298141 non-null  object \n",
      " 10  Age               298141 non-null  float64\n",
      " 11  Gender            298141 non-null  object \n",
      " 12  Income            298141 non-null  object \n",
      " 13  Customer_Segment  298141 non-null  object \n",
      " 14  Date              298141 non-null  object \n",
      " 15  Year              298141 non-null  float64\n",
      " 16  Month             298141 non-null  object \n",
      " 17  Time              298141 non-null  object \n",
      " 18  Quantity          298141 non-null  float64\n",
      " 19  Price_per_unit    298141 non-null  float64\n",
      " 20  Total_Amount      298141 non-null  float64\n",
      " 21  Product_Category  298141 non-null  object \n",
      " 22  Product_Brand     298141 non-null  object \n",
      " 23  Product_Type      298141 non-null  object \n",
      " 24  Feedback          298141 non-null  object \n",
      " 25  Shipping_Method   298141 non-null  object \n",
      " 26  Payment_Method    298141 non-null  object \n",
      " 27  Order_Status      298141 non-null  object \n",
      " 28  Ratings           298141 non-null  float64\n",
      " 29  products          298141 non-null  object \n",
      "dtypes: float64(10), object(20)\n",
      "memory usage: 70.5+ MB\n"
     ]
    }
   ],
   "source": [
    "dataset.info()"
   ]
  },
  {
   "cell_type": "markdown",
   "metadata": {},
   "source": [
    "Unique values in the Categorical columns"
   ]
  },
  {
   "cell_type": "code",
   "execution_count": 13,
   "metadata": {},
   "outputs": [
    {
     "name": "stdout",
     "output_type": "stream",
     "text": [
      "Unique values in Gender: ['Male' 'Female']\n",
      "----------------------------------------------------------------------------------------------------\n",
      "Unique values in Customer_Segment: ['Regular' 'Premium' 'New']\n",
      "----------------------------------------------------------------------------------------------------\n",
      "Unique values in Product_Category: ['Clothing' 'Electronics' 'Books' 'Home Decor' 'Grocery']\n",
      "----------------------------------------------------------------------------------------------------\n",
      "Unique values in Product_Brand: ['Nike' 'Samsung' 'Penguin Books' 'Home Depot' 'Nestle' 'Apple' 'Zara'\n",
      " 'Random House' 'Coca-Cola' 'Adidas' 'Pepsi' 'IKEA' 'HarperCollins'\n",
      " 'Bed Bath & Beyond' 'Sony' 'Whirepool' 'Mitsubhisi' 'BlueStar']\n",
      "----------------------------------------------------------------------------------------------------\n",
      "Unique values in Product_Type: ['Shorts' 'Tablet' \"Children's\" 'Tools' 'Chocolate' 'Television' 'Shirt'\n",
      " 'Decorations' 'Non-Fiction' 'Water' 'Snacks' 'T-shirt' 'Literature'\n",
      " 'Juice' 'Furniture' 'Coffee' 'Bathroom' 'Kitchen' 'Smartphone' 'Shoes'\n",
      " 'Thriller' 'Soft Drink' 'Laptop' 'Dress' 'Headphones' 'Lighting'\n",
      " 'Bedding' 'Jacket' 'Fiction' 'Jeans' 'Fridge'\n",
      " 'Mitsubishi 1.5 Ton 3 Star Split AC' 'BlueStar AC']\n",
      "----------------------------------------------------------------------------------------------------\n",
      "Unique values in Feedback: ['Excellent' 'Average' 'Bad' 'Good']\n",
      "----------------------------------------------------------------------------------------------------\n",
      "Unique values in Shipping_Method: ['Same-Day' 'Standard' 'Express']\n",
      "----------------------------------------------------------------------------------------------------\n",
      "Unique values in Payment_Method: ['Debit Card' 'Credit Card' 'PayPal' 'Cash']\n",
      "----------------------------------------------------------------------------------------------------\n",
      "Unique values in Order_Status: ['Shipped' 'Processing' 'Pending' 'Delivered']\n",
      "----------------------------------------------------------------------------------------------------\n"
     ]
    }
   ],
   "source": [
    "cat_cols = [\"Gender\", \"Customer_Segment\", \"Product_Category\", \"Product_Brand\",\n",
    "            \"Product_Type\", \"Feedback\", \"Shipping_Method\", \"Payment_Method\", \"Order_Status\"]\n",
    "for col in cat_cols:\n",
    "    print(f\"Unique values in {col}: {dataset[col].unique()}\")\n",
    "    print(\"-\"*100)"
   ]
  },
  {
   "cell_type": "code",
   "execution_count": 14,
   "metadata": {},
   "outputs": [],
   "source": [
    "data_rename = [\"Product_Category\", \"Product_Brand\", \"Product_Type\", \"Payment_Method\"]\n",
    "\n",
    "for col in data_rename:\n",
    "    dataset[col] = dataset[col].str.replace(\" \", \"_\")"
   ]
  },
  {
   "cell_type": "code",
   "execution_count": 15,
   "metadata": {},
   "outputs": [
    {
     "name": "stdout",
     "output_type": "stream",
     "text": [
      "Unique values in Gender: ['Male' 'Female']\n",
      "----------------------------------------------------------------------------------------------------\n",
      "Unique values in Customer_Segment: ['Regular' 'Premium' 'New']\n",
      "----------------------------------------------------------------------------------------------------\n",
      "Unique values in Product_Category: ['Clothing' 'Electronics' 'Books' 'Home_Decor' 'Grocery']\n",
      "----------------------------------------------------------------------------------------------------\n",
      "Unique values in Product_Brand: ['Nike' 'Samsung' 'Penguin_Books' 'Home_Depot' 'Nestle' 'Apple' 'Zara'\n",
      " 'Random_House' 'Coca-Cola' 'Adidas' 'Pepsi' 'IKEA' 'HarperCollins'\n",
      " 'Bed_Bath_&_Beyond' 'Sony' 'Whirepool' 'Mitsubhisi' 'BlueStar']\n",
      "----------------------------------------------------------------------------------------------------\n",
      "Unique values in Product_Type: ['Shorts' 'Tablet' \"Children's\" 'Tools' 'Chocolate' 'Television' 'Shirt'\n",
      " 'Decorations' 'Non-Fiction' 'Water' 'Snacks' 'T-shirt' 'Literature'\n",
      " 'Juice' 'Furniture' 'Coffee' 'Bathroom' 'Kitchen' 'Smartphone' 'Shoes'\n",
      " 'Thriller' 'Soft_Drink' 'Laptop' 'Dress' 'Headphones' 'Lighting'\n",
      " 'Bedding' 'Jacket' 'Fiction' 'Jeans' 'Fridge'\n",
      " 'Mitsubishi_1.5_Ton_3_Star_Split_AC' 'BlueStar_AC']\n",
      "----------------------------------------------------------------------------------------------------\n",
      "Unique values in Feedback: ['Excellent' 'Average' 'Bad' 'Good']\n",
      "----------------------------------------------------------------------------------------------------\n",
      "Unique values in Shipping_Method: ['Same-Day' 'Standard' 'Express']\n",
      "----------------------------------------------------------------------------------------------------\n",
      "Unique values in Payment_Method: ['Debit_Card' 'Credit_Card' 'PayPal' 'Cash']\n",
      "----------------------------------------------------------------------------------------------------\n",
      "Unique values in Order_Status: ['Shipped' 'Processing' 'Pending' 'Delivered']\n",
      "----------------------------------------------------------------------------------------------------\n"
     ]
    }
   ],
   "source": [
    "for col in cat_cols:\n",
    "    print(f\"Unique values in {col}: {dataset[col].unique()}\")\n",
    "    print(\"-\"*100)"
   ]
  },
  {
   "cell_type": "markdown",
   "metadata": {},
   "source": [
    "Now, we will reduce the number of decimal places in a few columns.\n",
    "\n",
    "#### Why We Do This Step\n",
    "Reducing the number of decimal places can be important for several reasons:\n",
    "\n",
    "- Readability: Fewer decimal places can make the data easier to read and interpret.\n",
    "- Data Storage: Reducing the number of decimal places can slightly reduce the storage requirements of the dataset.\n",
    "- Consistency: Ensuring that numerical data is presented consistently across different columns and datasets."
   ]
  },
  {
   "cell_type": "code",
   "execution_count": 16,
   "metadata": {},
   "outputs": [],
   "source": [
    "# Name of the columns that have multiple values after the decimal\n",
    "round_col = [\"Price_per_unit\", \"Total_Amount\"]\n",
    "\n",
    "# We will be rounding off the values to 2 decimals\n",
    "for col in round_col:\n",
    "    dataset[col] = dataset[col].round(2)"
   ]
  },
  {
   "cell_type": "code",
   "execution_count": 17,
   "metadata": {},
   "outputs": [
    {
     "name": "stdout",
     "output_type": "stream",
     "text": [
      "Number of unique columns in each column: \n",
      "Transaction_ID: 291071\n",
      "Customer_ID: 86641\n",
      "Name: 158185\n",
      "Email: 52740\n",
      "Phone: 295810\n",
      "Address: 295798\n",
      "City: 130\n",
      "State: 54\n",
      "Zipcode: 93789\n",
      "Country: 5\n",
      "Age: 53\n",
      "Gender: 2\n",
      "Income: 3\n",
      "Customer_Segment: 3\n",
      "Date: 366\n",
      "Year: 2\n",
      "Month: 12\n",
      "Time: 83579\n",
      "Quantity: 10\n",
      "Price_per_unit: 48879\n",
      "Total_Amount: 191765\n",
      "Product_Category: 5\n",
      "Product_Brand: 18\n",
      "Product_Type: 33\n",
      "Feedback: 4\n",
      "Shipping_Method: 3\n",
      "Payment_Method: 4\n",
      "Order_Status: 4\n",
      "Ratings: 5\n",
      "products: 318\n"
     ]
    }
   ],
   "source": [
    "print(\"Number of unique columns in each column: \")\n",
    "for col in dataset.columns:\n",
    "    print(f\"{col}: {len(dataset[col].unique())}\")"
   ]
  },
  {
   "cell_type": "markdown",
   "metadata": {},
   "source": [
    "3. Outliers Detection and Handling"
   ]
  },
  {
   "cell_type": "markdown",
   "metadata": {},
   "source": [
    "We will be using the IQR method to find the outliers in the data."
   ]
  },
  {
   "cell_type": "code",
   "execution_count": 18,
   "metadata": {},
   "outputs": [],
   "source": [
    "# Function to return the count of outliers in each column\n",
    "def iqr_val(col, threshold):\n",
    "    q3 = np.percentile(col, 75)\n",
    "    q1 = np.percentile(col, 25)\n",
    "\n",
    "    IQR = q3 - q1\n",
    "\n",
    "    lower_bound = q1 - (IQR * threshold)\n",
    "    upper_bound = q3 + (IQR * threshold)\n",
    "\n",
    "    return lower_bound, upper_bound\n",
    "\n",
    "def detecting_outliers(data, remove_outliers = False, threshold = 1.5):\n",
    "    outliers_count = {}\n",
    "    new_data = data.copy()\n",
    "    \n",
    "    for col in new_data.columns:\n",
    "        col_data = new_data[col].dropna()\n",
    "\n",
    "        if col_data.dtype in [np.int64, np.float64]:\n",
    "\n",
    "            lb, up = iqr_val(col = col_data, threshold=threshold)\n",
    "            outliers = np.where((col_data < lb) | (col_data > up))[0]\n",
    "            outliers_count[col] = len(outliers)\n",
    "            \n",
    "            if remove_outliers:\n",
    "                new_data = new_data[(new_data[col] >= lb) & (new_data[col] <= up)]\n",
    "    \n",
    "    return new_data, outliers_count\n"
   ]
  },
  {
   "cell_type": "code",
   "execution_count": 19,
   "metadata": {},
   "outputs": [
    {
     "name": "stdout",
     "output_type": "stream",
     "text": [
      "Transaction_ID: 0\n",
      "Customer_ID: 0\n",
      "Phone: 0\n",
      "Zipcode: 0\n",
      "Age: 0\n",
      "Year: 49220\n",
      "Quantity: 0\n",
      "Price_per_unit: 0\n",
      "Total_Amount: 3207\n",
      "Ratings: 0\n"
     ]
    }
   ],
   "source": [
    "# Names of the column which are either \"int64\" or \"float64\"\n",
    "data, outliers_count_per_col = detecting_outliers(dataset, remove_outliers = True)\n",
    "\n",
    "for col, count in outliers_count_per_col.items():\n",
    "    print(f\"{col}: {count}\")"
   ]
  },
  {
   "cell_type": "code",
   "execution_count": 20,
   "metadata": {},
   "outputs": [
    {
     "name": "stdout",
     "output_type": "stream",
     "text": [
      "Shape of the dataset after removing the outliers: (245714, 30)\n"
     ]
    }
   ],
   "source": [
    "print(f\"Shape of the dataset after removing the outliers: {data.shape}\")"
   ]
  },
  {
   "cell_type": "markdown",
   "metadata": {},
   "source": [
    "4. Data Types and Formatting\n",
    "\n",
    "We will be changing the data types of the columns to their appropriate data types."
   ]
  },
  {
   "cell_type": "code",
   "execution_count": 21,
   "metadata": {},
   "outputs": [
    {
     "name": "stdout",
     "output_type": "stream",
     "text": [
      "<class 'pandas.core.frame.DataFrame'>\n",
      "Index: 245714 entries, 0 to 302008\n",
      "Data columns (total 30 columns):\n",
      " #   Column            Non-Null Count   Dtype  \n",
      "---  ------            --------------   -----  \n",
      " 0   Transaction_ID    245714 non-null  float64\n",
      " 1   Customer_ID       245714 non-null  float64\n",
      " 2   Name              245714 non-null  object \n",
      " 3   Email             245714 non-null  object \n",
      " 4   Phone             245714 non-null  float64\n",
      " 5   Address           245714 non-null  object \n",
      " 6   City              245714 non-null  object \n",
      " 7   State             245714 non-null  object \n",
      " 8   Zipcode           245714 non-null  float64\n",
      " 9   Country           245714 non-null  object \n",
      " 10  Age               245714 non-null  float64\n",
      " 11  Gender            245714 non-null  object \n",
      " 12  Income            245714 non-null  object \n",
      " 13  Customer_Segment  245714 non-null  object \n",
      " 14  Date              245714 non-null  object \n",
      " 15  Year              245714 non-null  float64\n",
      " 16  Month             245714 non-null  object \n",
      " 17  Time              245714 non-null  object \n",
      " 18  Quantity          245714 non-null  float64\n",
      " 19  Price_per_unit    245714 non-null  float64\n",
      " 20  Total_Amount      245714 non-null  float64\n",
      " 21  Product_Category  245714 non-null  object \n",
      " 22  Product_Brand     245714 non-null  object \n",
      " 23  Product_Type      245714 non-null  object \n",
      " 24  Feedback          245714 non-null  object \n",
      " 25  Shipping_Method   245714 non-null  object \n",
      " 26  Payment_Method    245714 non-null  object \n",
      " 27  Order_Status      245714 non-null  object \n",
      " 28  Ratings           245714 non-null  float64\n",
      " 29  products          245714 non-null  object \n",
      "dtypes: float64(10), object(20)\n",
      "memory usage: 58.1+ MB\n"
     ]
    }
   ],
   "source": [
    "data.info()"
   ]
  },
  {
   "cell_type": "code",
   "execution_count": 22,
   "metadata": {},
   "outputs": [],
   "source": [
    "# Changing the Zipcode, Year, Quantity and Ratings columns from \"float\" type to \"integer\".\n",
    "\n",
    "float_col = [\"Zipcode\", \"Year\", \"Quantity\", \"Ratings\"]\n",
    "\n",
    "for col in float_col:\n",
    "    data[col] = data[col].astype(\"int64\")"
   ]
  },
  {
   "cell_type": "code",
   "execution_count": 23,
   "metadata": {},
   "outputs": [
    {
     "name": "stdout",
     "output_type": "stream",
     "text": [
      "<class 'pandas.core.frame.DataFrame'>\n",
      "Index: 245714 entries, 0 to 302008\n",
      "Data columns (total 30 columns):\n",
      " #   Column            Non-Null Count   Dtype  \n",
      "---  ------            --------------   -----  \n",
      " 0   Transaction_ID    245714 non-null  float64\n",
      " 1   Customer_ID       245714 non-null  float64\n",
      " 2   Name              245714 non-null  object \n",
      " 3   Email             245714 non-null  object \n",
      " 4   Phone             245714 non-null  float64\n",
      " 5   Address           245714 non-null  object \n",
      " 6   City              245714 non-null  object \n",
      " 7   State             245714 non-null  object \n",
      " 8   Zipcode           245714 non-null  int64  \n",
      " 9   Country           245714 non-null  object \n",
      " 10  Age               245714 non-null  float64\n",
      " 11  Gender            245714 non-null  object \n",
      " 12  Income            245714 non-null  object \n",
      " 13  Customer_Segment  245714 non-null  object \n",
      " 14  Date              245714 non-null  object \n",
      " 15  Year              245714 non-null  int64  \n",
      " 16  Month             245714 non-null  object \n",
      " 17  Time              245714 non-null  object \n",
      " 18  Quantity          245714 non-null  int64  \n",
      " 19  Price_per_unit    245714 non-null  float64\n",
      " 20  Total_Amount      245714 non-null  float64\n",
      " 21  Product_Category  245714 non-null  object \n",
      " 22  Product_Brand     245714 non-null  object \n",
      " 23  Product_Type      245714 non-null  object \n",
      " 24  Feedback          245714 non-null  object \n",
      " 25  Shipping_Method   245714 non-null  object \n",
      " 26  Payment_Method    245714 non-null  object \n",
      " 27  Order_Status      245714 non-null  object \n",
      " 28  Ratings           245714 non-null  int64  \n",
      " 29  products          245714 non-null  object \n",
      "dtypes: float64(6), int64(4), object(20)\n",
      "memory usage: 58.1+ MB\n"
     ]
    }
   ],
   "source": [
    "data.info()"
   ]
  },
  {
   "cell_type": "markdown",
   "metadata": {},
   "source": [
    "Now, we have float64(6), int64(4), object(20) columns."
   ]
  },
  {
   "cell_type": "code",
   "execution_count": 24,
   "metadata": {},
   "outputs": [],
   "source": [
    "# We will be saving the preprocessed data as a new csv file for the visualization process.\n",
    "\n",
    "file_path = \"Data/cleaned_data.csv\"\n",
    "data.to_csv(file_path, index = False)"
   ]
  },
  {
   "cell_type": "markdown",
   "metadata": {},
   "source": [
    "# Feature Engineering"
   ]
  },
  {
   "cell_type": "markdown",
   "metadata": {},
   "source": [
    "1. Creation of New Features\n",
    "\n",
    "    We will be creating 2 new features:\n",
    "    - Is_Premium_Customer\n",
    "    - Customer_Segment"
   ]
  },
  {
   "cell_type": "code",
   "execution_count": 25,
   "metadata": {},
   "outputs": [],
   "source": [
    "data[\"Is_Premium_Customer\"] = data[\"Customer_Segment\"].apply(lambda x: 1 if x == \"Premium\" else 0)\n",
    "\n",
    "def segment_customer(row):\n",
    "    if row[\"Age\"] < 25 and row[\"Income\"] == \"Low\":\n",
    "        return \"Young_Low_Income\"\n",
    "    elif row[\"Age\"] < 25 and row[\"Income\"] == \"High\":\n",
    "        return \"Young_High_Income\"\n",
    "    elif row[\"Age\"] >= 25 and row[\"Income\"] == \"Low\":\n",
    "        return \"Adult_Low_Income\"\n",
    "    else:\n",
    "        return \"Adult_High_Income\"\n",
    "\n",
    "data['Customer_Segment'] = data.apply(segment_customer, axis=1)"
   ]
  },
  {
   "cell_type": "code",
   "execution_count": 26,
   "metadata": {},
   "outputs": [
    {
     "name": "stdout",
     "output_type": "stream",
     "text": [
      "<class 'pandas.core.frame.DataFrame'>\n",
      "Index: 245714 entries, 0 to 302008\n",
      "Data columns (total 31 columns):\n",
      " #   Column               Non-Null Count   Dtype  \n",
      "---  ------               --------------   -----  \n",
      " 0   Transaction_ID       245714 non-null  float64\n",
      " 1   Customer_ID          245714 non-null  float64\n",
      " 2   Name                 245714 non-null  object \n",
      " 3   Email                245714 non-null  object \n",
      " 4   Phone                245714 non-null  float64\n",
      " 5   Address              245714 non-null  object \n",
      " 6   City                 245714 non-null  object \n",
      " 7   State                245714 non-null  object \n",
      " 8   Zipcode              245714 non-null  int64  \n",
      " 9   Country              245714 non-null  object \n",
      " 10  Age                  245714 non-null  float64\n",
      " 11  Gender               245714 non-null  object \n",
      " 12  Income               245714 non-null  object \n",
      " 13  Customer_Segment     245714 non-null  object \n",
      " 14  Date                 245714 non-null  object \n",
      " 15  Year                 245714 non-null  int64  \n",
      " 16  Month                245714 non-null  object \n",
      " 17  Time                 245714 non-null  object \n",
      " 18  Quantity             245714 non-null  int64  \n",
      " 19  Price_per_unit       245714 non-null  float64\n",
      " 20  Total_Amount         245714 non-null  float64\n",
      " 21  Product_Category     245714 non-null  object \n",
      " 22  Product_Brand        245714 non-null  object \n",
      " 23  Product_Type         245714 non-null  object \n",
      " 24  Feedback             245714 non-null  object \n",
      " 25  Shipping_Method      245714 non-null  object \n",
      " 26  Payment_Method       245714 non-null  object \n",
      " 27  Order_Status         245714 non-null  object \n",
      " 28  Ratings              245714 non-null  int64  \n",
      " 29  products             245714 non-null  object \n",
      " 30  Is_Premium_Customer  245714 non-null  int64  \n",
      "dtypes: float64(6), int64(5), object(20)\n",
      "memory usage: 60.0+ MB\n"
     ]
    }
   ],
   "source": [
    "data.info()"
   ]
  },
  {
   "cell_type": "markdown",
   "metadata": {},
   "source": [
    "Encoding of Categorical Variables"
   ]
  },
  {
   "cell_type": "markdown",
   "metadata": {},
   "source": [
    "`Country, Gender, Customer_Segment, Product_Category, Shipping_Method, Payment_Method` are Nomial data. Here, we will use one-hot encoding."
   ]
  },
  {
   "cell_type": "code",
   "execution_count": 27,
   "metadata": {},
   "outputs": [],
   "source": [
    "# All the nominal columns\n",
    "nominal_col = [\"Country\", \"Gender\", \"Customer_Segment\", \"Product_Category\",\n",
    "               \"Shipping_Method\", \"Payment_Method\"]\n",
    "\n",
    "# Create dummy variables for each nominal column using pd.get_dummies()\n",
    "encoded_dfs = [pd.get_dummies(data[col], prefix=col) for col in nominal_col]\n",
    "\n",
    "# Concatenate original DataFrame and all dummy DataFrames horizontally\n",
    "combined_data = pd.concat([data] + encoded_dfs, axis=1)"
   ]
  },
  {
   "cell_type": "code",
   "execution_count": 28,
   "metadata": {},
   "outputs": [
    {
     "name": "stdout",
     "output_type": "stream",
     "text": [
      "Shape of the Dataset after ohe: (245714, 54)\n"
     ]
    }
   ],
   "source": [
    "print(f\"Shape of the Dataset after ohe: {combined_data.shape}\")"
   ]
  },
  {
   "cell_type": "code",
   "execution_count": 29,
   "metadata": {},
   "outputs": [
    {
     "name": "stdout",
     "output_type": "stream",
     "text": [
      "<class 'pandas.core.frame.DataFrame'>\n",
      "Index: 245714 entries, 0 to 302008\n",
      "Data columns (total 31 columns):\n",
      " #   Column               Non-Null Count   Dtype  \n",
      "---  ------               --------------   -----  \n",
      " 0   Transaction_ID       245714 non-null  float64\n",
      " 1   Customer_ID          245714 non-null  float64\n",
      " 2   Name                 245714 non-null  object \n",
      " 3   Email                245714 non-null  object \n",
      " 4   Phone                245714 non-null  float64\n",
      " 5   Address              245714 non-null  object \n",
      " 6   City                 245714 non-null  object \n",
      " 7   State                245714 non-null  object \n",
      " 8   Zipcode              245714 non-null  int64  \n",
      " 9   Country              245714 non-null  object \n",
      " 10  Age                  245714 non-null  float64\n",
      " 11  Gender               245714 non-null  object \n",
      " 12  Income               245714 non-null  object \n",
      " 13  Customer_Segment     245714 non-null  object \n",
      " 14  Date                 245714 non-null  object \n",
      " 15  Year                 245714 non-null  int64  \n",
      " 16  Month                245714 non-null  object \n",
      " 17  Time                 245714 non-null  object \n",
      " 18  Quantity             245714 non-null  int64  \n",
      " 19  Price_per_unit       245714 non-null  float64\n",
      " 20  Total_Amount         245714 non-null  float64\n",
      " 21  Product_Category     245714 non-null  object \n",
      " 22  Product_Brand        245714 non-null  object \n",
      " 23  Product_Type         245714 non-null  object \n",
      " 24  Feedback             245714 non-null  object \n",
      " 25  Shipping_Method      245714 non-null  object \n",
      " 26  Payment_Method       245714 non-null  object \n",
      " 27  Order_Status         245714 non-null  object \n",
      " 28  Ratings              245714 non-null  int64  \n",
      " 29  products             245714 non-null  object \n",
      " 30  Is_Premium_Customer  245714 non-null  int64  \n",
      "dtypes: float64(6), int64(5), object(20)\n",
      "memory usage: 60.0+ MB\n"
     ]
    }
   ],
   "source": [
    "data.info()"
   ]
  },
  {
   "cell_type": "markdown",
   "metadata": {},
   "source": [
    "Now, we will be handling Ordinal Data.\n",
    "Ordinal columns are `Income, Feedback`."
   ]
  },
  {
   "cell_type": "code",
   "execution_count": 30,
   "metadata": {},
   "outputs": [
    {
     "name": "stdout",
     "output_type": "stream",
     "text": [
      "Unique values in the Income col: ['Low' 'High' 'Medium']\n",
      "Unique values in the Feedback col: ['Excellent' 'Average' 'Good' 'Bad']\n"
     ]
    }
   ],
   "source": [
    "print(\"Unique values in the Income col: {0}\".format(data[\"Income\"].unique()))\n",
    "print(\"Unique values in the Feedback col: {0}\".format(data[\"Feedback\"].unique()))"
   ]
  },
  {
   "cell_type": "code",
   "execution_count": 31,
   "metadata": {},
   "outputs": [],
   "source": [
    "income_order = {\n",
    "    \"Low\": 0,\n",
    "    \"Medium\": 1,\n",
    "    \"High\": 2\n",
    "}\n",
    "\n",
    "feedback_order = {\n",
    "    \"Bad\": 0,\n",
    "    \"Average\": 1,\n",
    "    \"Good\": 2,\n",
    "    \"Excellent\": 3\n",
    "}\n",
    "\n",
    "combined_data[\"Income\"] = combined_data[\"Income\"].map(income_order)\n",
    "combined_data[\"Feedback\"] = combined_data[\"Feedback\"].map(feedback_order)"
   ]
  },
  {
   "cell_type": "code",
   "execution_count": 32,
   "metadata": {},
   "outputs": [],
   "source": [
    "# Dropping the columns that we don't need for training the model\n",
    "col_drop = [\"Transaction_ID\", \"Customer_ID\", \"Name\", \"Email\", \"Phone\", \"Address\",\n",
    "            \"City\", \"State\", \"Zipcode\", \"Country\", \"Age\", \"Gender\", \"Customer_Segment\",\n",
    "            \"Date\", \"Year\", \"Month\", \"Time\", \"Price_per_unit\", \"Product_Category\",\n",
    "            \"Product_Brand\", \"Product_Type\", \"Shipping_Method\", \"Payment_Method\",\n",
    "            \"Order_Status\", \"products\"]\n",
    "\n",
    "final_data = combined_data.drop(columns = col_drop)"
   ]
  },
  {
   "cell_type": "code",
   "execution_count": 33,
   "metadata": {},
   "outputs": [
    {
     "name": "stdout",
     "output_type": "stream",
     "text": [
      "<class 'pandas.core.frame.DataFrame'>\n",
      "Index: 245714 entries, 0 to 302008\n",
      "Data columns (total 29 columns):\n",
      " #   Column                              Non-Null Count   Dtype  \n",
      "---  ------                              --------------   -----  \n",
      " 0   Income                              245714 non-null  int64  \n",
      " 1   Quantity                            245714 non-null  int64  \n",
      " 2   Total_Amount                        245714 non-null  float64\n",
      " 3   Feedback                            245714 non-null  int64  \n",
      " 4   Ratings                             245714 non-null  int64  \n",
      " 5   Is_Premium_Customer                 245714 non-null  int64  \n",
      " 6   Country_Australia                   245714 non-null  bool   \n",
      " 7   Country_Canada                      245714 non-null  bool   \n",
      " 8   Country_Germany                     245714 non-null  bool   \n",
      " 9   Country_UK                          245714 non-null  bool   \n",
      " 10  Country_USA                         245714 non-null  bool   \n",
      " 11  Gender_Female                       245714 non-null  bool   \n",
      " 12  Gender_Male                         245714 non-null  bool   \n",
      " 13  Customer_Segment_Adult_High_Income  245714 non-null  bool   \n",
      " 14  Customer_Segment_Adult_Low_Income   245714 non-null  bool   \n",
      " 15  Customer_Segment_Young_High_Income  245714 non-null  bool   \n",
      " 16  Customer_Segment_Young_Low_Income   245714 non-null  bool   \n",
      " 17  Product_Category_Books              245714 non-null  bool   \n",
      " 18  Product_Category_Clothing           245714 non-null  bool   \n",
      " 19  Product_Category_Electronics        245714 non-null  bool   \n",
      " 20  Product_Category_Grocery            245714 non-null  bool   \n",
      " 21  Product_Category_Home_Decor         245714 non-null  bool   \n",
      " 22  Shipping_Method_Express             245714 non-null  bool   \n",
      " 23  Shipping_Method_Same-Day            245714 non-null  bool   \n",
      " 24  Shipping_Method_Standard            245714 non-null  bool   \n",
      " 25  Payment_Method_Cash                 245714 non-null  bool   \n",
      " 26  Payment_Method_Credit_Card          245714 non-null  bool   \n",
      " 27  Payment_Method_Debit_Card           245714 non-null  bool   \n",
      " 28  Payment_Method_PayPal               245714 non-null  bool   \n",
      "dtypes: bool(23), float64(1), int64(5)\n",
      "memory usage: 18.5 MB\n"
     ]
    }
   ],
   "source": [
    "final_data.info()"
   ]
  },
  {
   "cell_type": "code",
   "execution_count": 34,
   "metadata": {},
   "outputs": [
    {
     "data": {
      "text/plain": [
       "Income                                0\n",
       "Quantity                              0\n",
       "Total_Amount                          0\n",
       "Feedback                              0\n",
       "Ratings                               0\n",
       "Is_Premium_Customer                   0\n",
       "Country_Australia                     0\n",
       "Country_Canada                        0\n",
       "Country_Germany                       0\n",
       "Country_UK                            0\n",
       "Country_USA                           0\n",
       "Gender_Female                         0\n",
       "Gender_Male                           0\n",
       "Customer_Segment_Adult_High_Income    0\n",
       "Customer_Segment_Adult_Low_Income     0\n",
       "Customer_Segment_Young_High_Income    0\n",
       "Customer_Segment_Young_Low_Income     0\n",
       "Product_Category_Books                0\n",
       "Product_Category_Clothing             0\n",
       "Product_Category_Electronics          0\n",
       "Product_Category_Grocery              0\n",
       "Product_Category_Home_Decor           0\n",
       "Shipping_Method_Express               0\n",
       "Shipping_Method_Same-Day              0\n",
       "Shipping_Method_Standard              0\n",
       "Payment_Method_Cash                   0\n",
       "Payment_Method_Credit_Card            0\n",
       "Payment_Method_Debit_Card             0\n",
       "Payment_Method_PayPal                 0\n",
       "dtype: int64"
      ]
     },
     "execution_count": 34,
     "metadata": {},
     "output_type": "execute_result"
    }
   ],
   "source": [
    "final_data.isnull().sum()"
   ]
  },
  {
   "cell_type": "code",
   "execution_count": 35,
   "metadata": {},
   "outputs": [],
   "source": [
    "X, y = final_data.drop(\"Total_Amount\", axis = 1), final_data.pop(\"Total_Amount\")"
   ]
  },
  {
   "cell_type": "code",
   "execution_count": 36,
   "metadata": {},
   "outputs": [],
   "source": [
    "X_train, X_test, y_train, y_test = train_test_split(X, y, test_size = 0.2, random_state = 0)"
   ]
  },
  {
   "cell_type": "code",
   "execution_count": 37,
   "metadata": {},
   "outputs": [],
   "source": [
    "from sklearn.linear_model import LinearRegression"
   ]
  },
  {
   "cell_type": "code",
   "execution_count": 38,
   "metadata": {},
   "outputs": [],
   "source": [
    "lr = LinearRegression()"
   ]
  },
  {
   "cell_type": "code",
   "execution_count": 39,
   "metadata": {},
   "outputs": [
    {
     "data": {
      "text/html": [
       "<style>#sk-container-id-1 {\n",
       "  /* Definition of color scheme common for light and dark mode */\n",
       "  --sklearn-color-text: black;\n",
       "  --sklearn-color-line: gray;\n",
       "  /* Definition of color scheme for unfitted estimators */\n",
       "  --sklearn-color-unfitted-level-0: #fff5e6;\n",
       "  --sklearn-color-unfitted-level-1: #f6e4d2;\n",
       "  --sklearn-color-unfitted-level-2: #ffe0b3;\n",
       "  --sklearn-color-unfitted-level-3: chocolate;\n",
       "  /* Definition of color scheme for fitted estimators */\n",
       "  --sklearn-color-fitted-level-0: #f0f8ff;\n",
       "  --sklearn-color-fitted-level-1: #d4ebff;\n",
       "  --sklearn-color-fitted-level-2: #b3dbfd;\n",
       "  --sklearn-color-fitted-level-3: cornflowerblue;\n",
       "\n",
       "  /* Specific color for light theme */\n",
       "  --sklearn-color-text-on-default-background: var(--sg-text-color, var(--theme-code-foreground, var(--jp-content-font-color1, black)));\n",
       "  --sklearn-color-background: var(--sg-background-color, var(--theme-background, var(--jp-layout-color0, white)));\n",
       "  --sklearn-color-border-box: var(--sg-text-color, var(--theme-code-foreground, var(--jp-content-font-color1, black)));\n",
       "  --sklearn-color-icon: #696969;\n",
       "\n",
       "  @media (prefers-color-scheme: dark) {\n",
       "    /* Redefinition of color scheme for dark theme */\n",
       "    --sklearn-color-text-on-default-background: var(--sg-text-color, var(--theme-code-foreground, var(--jp-content-font-color1, white)));\n",
       "    --sklearn-color-background: var(--sg-background-color, var(--theme-background, var(--jp-layout-color0, #111)));\n",
       "    --sklearn-color-border-box: var(--sg-text-color, var(--theme-code-foreground, var(--jp-content-font-color1, white)));\n",
       "    --sklearn-color-icon: #878787;\n",
       "  }\n",
       "}\n",
       "\n",
       "#sk-container-id-1 {\n",
       "  color: var(--sklearn-color-text);\n",
       "}\n",
       "\n",
       "#sk-container-id-1 pre {\n",
       "  padding: 0;\n",
       "}\n",
       "\n",
       "#sk-container-id-1 input.sk-hidden--visually {\n",
       "  border: 0;\n",
       "  clip: rect(1px 1px 1px 1px);\n",
       "  clip: rect(1px, 1px, 1px, 1px);\n",
       "  height: 1px;\n",
       "  margin: -1px;\n",
       "  overflow: hidden;\n",
       "  padding: 0;\n",
       "  position: absolute;\n",
       "  width: 1px;\n",
       "}\n",
       "\n",
       "#sk-container-id-1 div.sk-dashed-wrapped {\n",
       "  border: 1px dashed var(--sklearn-color-line);\n",
       "  margin: 0 0.4em 0.5em 0.4em;\n",
       "  box-sizing: border-box;\n",
       "  padding-bottom: 0.4em;\n",
       "  background-color: var(--sklearn-color-background);\n",
       "}\n",
       "\n",
       "#sk-container-id-1 div.sk-container {\n",
       "  /* jupyter's `normalize.less` sets `[hidden] { display: none; }`\n",
       "     but bootstrap.min.css set `[hidden] { display: none !important; }`\n",
       "     so we also need the `!important` here to be able to override the\n",
       "     default hidden behavior on the sphinx rendered scikit-learn.org.\n",
       "     See: https://github.com/scikit-learn/scikit-learn/issues/21755 */\n",
       "  display: inline-block !important;\n",
       "  position: relative;\n",
       "}\n",
       "\n",
       "#sk-container-id-1 div.sk-text-repr-fallback {\n",
       "  display: none;\n",
       "}\n",
       "\n",
       "div.sk-parallel-item,\n",
       "div.sk-serial,\n",
       "div.sk-item {\n",
       "  /* draw centered vertical line to link estimators */\n",
       "  background-image: linear-gradient(var(--sklearn-color-text-on-default-background), var(--sklearn-color-text-on-default-background));\n",
       "  background-size: 2px 100%;\n",
       "  background-repeat: no-repeat;\n",
       "  background-position: center center;\n",
       "}\n",
       "\n",
       "/* Parallel-specific style estimator block */\n",
       "\n",
       "#sk-container-id-1 div.sk-parallel-item::after {\n",
       "  content: \"\";\n",
       "  width: 100%;\n",
       "  border-bottom: 2px solid var(--sklearn-color-text-on-default-background);\n",
       "  flex-grow: 1;\n",
       "}\n",
       "\n",
       "#sk-container-id-1 div.sk-parallel {\n",
       "  display: flex;\n",
       "  align-items: stretch;\n",
       "  justify-content: center;\n",
       "  background-color: var(--sklearn-color-background);\n",
       "  position: relative;\n",
       "}\n",
       "\n",
       "#sk-container-id-1 div.sk-parallel-item {\n",
       "  display: flex;\n",
       "  flex-direction: column;\n",
       "}\n",
       "\n",
       "#sk-container-id-1 div.sk-parallel-item:first-child::after {\n",
       "  align-self: flex-end;\n",
       "  width: 50%;\n",
       "}\n",
       "\n",
       "#sk-container-id-1 div.sk-parallel-item:last-child::after {\n",
       "  align-self: flex-start;\n",
       "  width: 50%;\n",
       "}\n",
       "\n",
       "#sk-container-id-1 div.sk-parallel-item:only-child::after {\n",
       "  width: 0;\n",
       "}\n",
       "\n",
       "/* Serial-specific style estimator block */\n",
       "\n",
       "#sk-container-id-1 div.sk-serial {\n",
       "  display: flex;\n",
       "  flex-direction: column;\n",
       "  align-items: center;\n",
       "  background-color: var(--sklearn-color-background);\n",
       "  padding-right: 1em;\n",
       "  padding-left: 1em;\n",
       "}\n",
       "\n",
       "\n",
       "/* Toggleable style: style used for estimator/Pipeline/ColumnTransformer box that is\n",
       "clickable and can be expanded/collapsed.\n",
       "- Pipeline and ColumnTransformer use this feature and define the default style\n",
       "- Estimators will overwrite some part of the style using the `sk-estimator` class\n",
       "*/\n",
       "\n",
       "/* Pipeline and ColumnTransformer style (default) */\n",
       "\n",
       "#sk-container-id-1 div.sk-toggleable {\n",
       "  /* Default theme specific background. It is overwritten whether we have a\n",
       "  specific estimator or a Pipeline/ColumnTransformer */\n",
       "  background-color: var(--sklearn-color-background);\n",
       "}\n",
       "\n",
       "/* Toggleable label */\n",
       "#sk-container-id-1 label.sk-toggleable__label {\n",
       "  cursor: pointer;\n",
       "  display: block;\n",
       "  width: 100%;\n",
       "  margin-bottom: 0;\n",
       "  padding: 0.5em;\n",
       "  box-sizing: border-box;\n",
       "  text-align: center;\n",
       "}\n",
       "\n",
       "#sk-container-id-1 label.sk-toggleable__label-arrow:before {\n",
       "  /* Arrow on the left of the label */\n",
       "  content: \"▸\";\n",
       "  float: left;\n",
       "  margin-right: 0.25em;\n",
       "  color: var(--sklearn-color-icon);\n",
       "}\n",
       "\n",
       "#sk-container-id-1 label.sk-toggleable__label-arrow:hover:before {\n",
       "  color: var(--sklearn-color-text);\n",
       "}\n",
       "\n",
       "/* Toggleable content - dropdown */\n",
       "\n",
       "#sk-container-id-1 div.sk-toggleable__content {\n",
       "  max-height: 0;\n",
       "  max-width: 0;\n",
       "  overflow: hidden;\n",
       "  text-align: left;\n",
       "  /* unfitted */\n",
       "  background-color: var(--sklearn-color-unfitted-level-0);\n",
       "}\n",
       "\n",
       "#sk-container-id-1 div.sk-toggleable__content.fitted {\n",
       "  /* fitted */\n",
       "  background-color: var(--sklearn-color-fitted-level-0);\n",
       "}\n",
       "\n",
       "#sk-container-id-1 div.sk-toggleable__content pre {\n",
       "  margin: 0.2em;\n",
       "  border-radius: 0.25em;\n",
       "  color: var(--sklearn-color-text);\n",
       "  /* unfitted */\n",
       "  background-color: var(--sklearn-color-unfitted-level-0);\n",
       "}\n",
       "\n",
       "#sk-container-id-1 div.sk-toggleable__content.fitted pre {\n",
       "  /* unfitted */\n",
       "  background-color: var(--sklearn-color-fitted-level-0);\n",
       "}\n",
       "\n",
       "#sk-container-id-1 input.sk-toggleable__control:checked~div.sk-toggleable__content {\n",
       "  /* Expand drop-down */\n",
       "  max-height: 200px;\n",
       "  max-width: 100%;\n",
       "  overflow: auto;\n",
       "}\n",
       "\n",
       "#sk-container-id-1 input.sk-toggleable__control:checked~label.sk-toggleable__label-arrow:before {\n",
       "  content: \"▾\";\n",
       "}\n",
       "\n",
       "/* Pipeline/ColumnTransformer-specific style */\n",
       "\n",
       "#sk-container-id-1 div.sk-label input.sk-toggleable__control:checked~label.sk-toggleable__label {\n",
       "  color: var(--sklearn-color-text);\n",
       "  background-color: var(--sklearn-color-unfitted-level-2);\n",
       "}\n",
       "\n",
       "#sk-container-id-1 div.sk-label.fitted input.sk-toggleable__control:checked~label.sk-toggleable__label {\n",
       "  background-color: var(--sklearn-color-fitted-level-2);\n",
       "}\n",
       "\n",
       "/* Estimator-specific style */\n",
       "\n",
       "/* Colorize estimator box */\n",
       "#sk-container-id-1 div.sk-estimator input.sk-toggleable__control:checked~label.sk-toggleable__label {\n",
       "  /* unfitted */\n",
       "  background-color: var(--sklearn-color-unfitted-level-2);\n",
       "}\n",
       "\n",
       "#sk-container-id-1 div.sk-estimator.fitted input.sk-toggleable__control:checked~label.sk-toggleable__label {\n",
       "  /* fitted */\n",
       "  background-color: var(--sklearn-color-fitted-level-2);\n",
       "}\n",
       "\n",
       "#sk-container-id-1 div.sk-label label.sk-toggleable__label,\n",
       "#sk-container-id-1 div.sk-label label {\n",
       "  /* The background is the default theme color */\n",
       "  color: var(--sklearn-color-text-on-default-background);\n",
       "}\n",
       "\n",
       "/* On hover, darken the color of the background */\n",
       "#sk-container-id-1 div.sk-label:hover label.sk-toggleable__label {\n",
       "  color: var(--sklearn-color-text);\n",
       "  background-color: var(--sklearn-color-unfitted-level-2);\n",
       "}\n",
       "\n",
       "/* Label box, darken color on hover, fitted */\n",
       "#sk-container-id-1 div.sk-label.fitted:hover label.sk-toggleable__label.fitted {\n",
       "  color: var(--sklearn-color-text);\n",
       "  background-color: var(--sklearn-color-fitted-level-2);\n",
       "}\n",
       "\n",
       "/* Estimator label */\n",
       "\n",
       "#sk-container-id-1 div.sk-label label {\n",
       "  font-family: monospace;\n",
       "  font-weight: bold;\n",
       "  display: inline-block;\n",
       "  line-height: 1.2em;\n",
       "}\n",
       "\n",
       "#sk-container-id-1 div.sk-label-container {\n",
       "  text-align: center;\n",
       "}\n",
       "\n",
       "/* Estimator-specific */\n",
       "#sk-container-id-1 div.sk-estimator {\n",
       "  font-family: monospace;\n",
       "  border: 1px dotted var(--sklearn-color-border-box);\n",
       "  border-radius: 0.25em;\n",
       "  box-sizing: border-box;\n",
       "  margin-bottom: 0.5em;\n",
       "  /* unfitted */\n",
       "  background-color: var(--sklearn-color-unfitted-level-0);\n",
       "}\n",
       "\n",
       "#sk-container-id-1 div.sk-estimator.fitted {\n",
       "  /* fitted */\n",
       "  background-color: var(--sklearn-color-fitted-level-0);\n",
       "}\n",
       "\n",
       "/* on hover */\n",
       "#sk-container-id-1 div.sk-estimator:hover {\n",
       "  /* unfitted */\n",
       "  background-color: var(--sklearn-color-unfitted-level-2);\n",
       "}\n",
       "\n",
       "#sk-container-id-1 div.sk-estimator.fitted:hover {\n",
       "  /* fitted */\n",
       "  background-color: var(--sklearn-color-fitted-level-2);\n",
       "}\n",
       "\n",
       "/* Specification for estimator info (e.g. \"i\" and \"?\") */\n",
       "\n",
       "/* Common style for \"i\" and \"?\" */\n",
       "\n",
       ".sk-estimator-doc-link,\n",
       "a:link.sk-estimator-doc-link,\n",
       "a:visited.sk-estimator-doc-link {\n",
       "  float: right;\n",
       "  font-size: smaller;\n",
       "  line-height: 1em;\n",
       "  font-family: monospace;\n",
       "  background-color: var(--sklearn-color-background);\n",
       "  border-radius: 1em;\n",
       "  height: 1em;\n",
       "  width: 1em;\n",
       "  text-decoration: none !important;\n",
       "  margin-left: 1ex;\n",
       "  /* unfitted */\n",
       "  border: var(--sklearn-color-unfitted-level-1) 1pt solid;\n",
       "  color: var(--sklearn-color-unfitted-level-1);\n",
       "}\n",
       "\n",
       ".sk-estimator-doc-link.fitted,\n",
       "a:link.sk-estimator-doc-link.fitted,\n",
       "a:visited.sk-estimator-doc-link.fitted {\n",
       "  /* fitted */\n",
       "  border: var(--sklearn-color-fitted-level-1) 1pt solid;\n",
       "  color: var(--sklearn-color-fitted-level-1);\n",
       "}\n",
       "\n",
       "/* On hover */\n",
       "div.sk-estimator:hover .sk-estimator-doc-link:hover,\n",
       ".sk-estimator-doc-link:hover,\n",
       "div.sk-label-container:hover .sk-estimator-doc-link:hover,\n",
       ".sk-estimator-doc-link:hover {\n",
       "  /* unfitted */\n",
       "  background-color: var(--sklearn-color-unfitted-level-3);\n",
       "  color: var(--sklearn-color-background);\n",
       "  text-decoration: none;\n",
       "}\n",
       "\n",
       "div.sk-estimator.fitted:hover .sk-estimator-doc-link.fitted:hover,\n",
       ".sk-estimator-doc-link.fitted:hover,\n",
       "div.sk-label-container:hover .sk-estimator-doc-link.fitted:hover,\n",
       ".sk-estimator-doc-link.fitted:hover {\n",
       "  /* fitted */\n",
       "  background-color: var(--sklearn-color-fitted-level-3);\n",
       "  color: var(--sklearn-color-background);\n",
       "  text-decoration: none;\n",
       "}\n",
       "\n",
       "/* Span, style for the box shown on hovering the info icon */\n",
       ".sk-estimator-doc-link span {\n",
       "  display: none;\n",
       "  z-index: 9999;\n",
       "  position: relative;\n",
       "  font-weight: normal;\n",
       "  right: .2ex;\n",
       "  padding: .5ex;\n",
       "  margin: .5ex;\n",
       "  width: min-content;\n",
       "  min-width: 20ex;\n",
       "  max-width: 50ex;\n",
       "  color: var(--sklearn-color-text);\n",
       "  box-shadow: 2pt 2pt 4pt #999;\n",
       "  /* unfitted */\n",
       "  background: var(--sklearn-color-unfitted-level-0);\n",
       "  border: .5pt solid var(--sklearn-color-unfitted-level-3);\n",
       "}\n",
       "\n",
       ".sk-estimator-doc-link.fitted span {\n",
       "  /* fitted */\n",
       "  background: var(--sklearn-color-fitted-level-0);\n",
       "  border: var(--sklearn-color-fitted-level-3);\n",
       "}\n",
       "\n",
       ".sk-estimator-doc-link:hover span {\n",
       "  display: block;\n",
       "}\n",
       "\n",
       "/* \"?\"-specific style due to the `<a>` HTML tag */\n",
       "\n",
       "#sk-container-id-1 a.estimator_doc_link {\n",
       "  float: right;\n",
       "  font-size: 1rem;\n",
       "  line-height: 1em;\n",
       "  font-family: monospace;\n",
       "  background-color: var(--sklearn-color-background);\n",
       "  border-radius: 1rem;\n",
       "  height: 1rem;\n",
       "  width: 1rem;\n",
       "  text-decoration: none;\n",
       "  /* unfitted */\n",
       "  color: var(--sklearn-color-unfitted-level-1);\n",
       "  border: var(--sklearn-color-unfitted-level-1) 1pt solid;\n",
       "}\n",
       "\n",
       "#sk-container-id-1 a.estimator_doc_link.fitted {\n",
       "  /* fitted */\n",
       "  border: var(--sklearn-color-fitted-level-1) 1pt solid;\n",
       "  color: var(--sklearn-color-fitted-level-1);\n",
       "}\n",
       "\n",
       "/* On hover */\n",
       "#sk-container-id-1 a.estimator_doc_link:hover {\n",
       "  /* unfitted */\n",
       "  background-color: var(--sklearn-color-unfitted-level-3);\n",
       "  color: var(--sklearn-color-background);\n",
       "  text-decoration: none;\n",
       "}\n",
       "\n",
       "#sk-container-id-1 a.estimator_doc_link.fitted:hover {\n",
       "  /* fitted */\n",
       "  background-color: var(--sklearn-color-fitted-level-3);\n",
       "}\n",
       "</style><div id=\"sk-container-id-1\" class=\"sk-top-container\"><div class=\"sk-text-repr-fallback\"><pre>LinearRegression()</pre><b>In a Jupyter environment, please rerun this cell to show the HTML representation or trust the notebook. <br />On GitHub, the HTML representation is unable to render, please try loading this page with nbviewer.org.</b></div><div class=\"sk-container\" hidden><div class=\"sk-item\"><div class=\"sk-estimator fitted sk-toggleable\"><input class=\"sk-toggleable__control sk-hidden--visually\" id=\"sk-estimator-id-1\" type=\"checkbox\" checked><label for=\"sk-estimator-id-1\" class=\"sk-toggleable__label fitted sk-toggleable__label-arrow fitted\">&nbsp;&nbsp;LinearRegression<a class=\"sk-estimator-doc-link fitted\" rel=\"noreferrer\" target=\"_blank\" href=\"https://scikit-learn.org/1.4/modules/generated/sklearn.linear_model.LinearRegression.html\">?<span>Documentation for LinearRegression</span></a><span class=\"sk-estimator-doc-link fitted\">i<span>Fitted</span></span></label><div class=\"sk-toggleable__content fitted\"><pre>LinearRegression()</pre></div> </div></div></div></div>"
      ],
      "text/plain": [
       "LinearRegression()"
      ]
     },
     "execution_count": 39,
     "metadata": {},
     "output_type": "execute_result"
    }
   ],
   "source": [
    "lr.fit(X_train, y_train)"
   ]
  },
  {
   "cell_type": "code",
   "execution_count": 40,
   "metadata": {},
   "outputs": [],
   "source": [
    "pred = lr.predict(X_test)"
   ]
  },
  {
   "cell_type": "code",
   "execution_count": 41,
   "metadata": {},
   "outputs": [],
   "source": [
    "from sklearn.metrics import r2_score"
   ]
  },
  {
   "cell_type": "code",
   "execution_count": 42,
   "metadata": {},
   "outputs": [
    {
     "data": {
      "text/plain": [
       "0.40628651141536576"
      ]
     },
     "execution_count": 42,
     "metadata": {},
     "output_type": "execute_result"
    }
   ],
   "source": [
    "r2_score(y_test, pred)"
   ]
  },
  {
   "cell_type": "code",
   "execution_count": null,
   "metadata": {},
   "outputs": [],
   "source": []
  }
 ],
 "metadata": {
  "kernelspec": {
   "display_name": "Python 3",
   "language": "python",
   "name": "python3"
  },
  "language_info": {
   "codemirror_mode": {
    "name": "ipython",
    "version": 3
   },
   "file_extension": ".py",
   "mimetype": "text/x-python",
   "name": "python",
   "nbconvert_exporter": "python",
   "pygments_lexer": "ipython3",
   "version": "3.11.8"
  }
 },
 "nbformat": 4,
 "nbformat_minor": 2
}
