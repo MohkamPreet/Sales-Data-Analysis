{
 "cells": [
  {
   "cell_type": "markdown",
   "metadata": {},
   "source": [
    "Importing the Required Packages"
   ]
  },
  {
   "cell_type": "code",
   "execution_count": 1,
   "metadata": {},
   "outputs": [],
   "source": [
    "import numpy as np\n",
    "import pandas as pd"
   ]
  },
  {
   "cell_type": "markdown",
   "metadata": {},
   "source": [
    "Loading the dataset into the notebooks"
   ]
  },
  {
   "cell_type": "code",
   "execution_count": 2,
   "metadata": {},
   "outputs": [
    {
     "data": {
      "text/html": [
       "<div>\n",
       "<style scoped>\n",
       "    .dataframe tbody tr th:only-of-type {\n",
       "        vertical-align: middle;\n",
       "    }\n",
       "\n",
       "    .dataframe tbody tr th {\n",
       "        vertical-align: top;\n",
       "    }\n",
       "\n",
       "    .dataframe thead th {\n",
       "        text-align: right;\n",
       "    }\n",
       "</style>\n",
       "<table border=\"1\" class=\"dataframe\">\n",
       "  <thead>\n",
       "    <tr style=\"text-align: right;\">\n",
       "      <th></th>\n",
       "      <th>Transaction_ID</th>\n",
       "      <th>Customer_ID</th>\n",
       "      <th>Name</th>\n",
       "      <th>Email</th>\n",
       "      <th>Phone</th>\n",
       "      <th>Address</th>\n",
       "      <th>City</th>\n",
       "      <th>State</th>\n",
       "      <th>Zipcode</th>\n",
       "      <th>Country</th>\n",
       "      <th>...</th>\n",
       "      <th>Total_Amount</th>\n",
       "      <th>Product_Category</th>\n",
       "      <th>Product_Brand</th>\n",
       "      <th>Product_Type</th>\n",
       "      <th>Feedback</th>\n",
       "      <th>Shipping_Method</th>\n",
       "      <th>Payment_Method</th>\n",
       "      <th>Order_Status</th>\n",
       "      <th>Ratings</th>\n",
       "      <th>products</th>\n",
       "    </tr>\n",
       "  </thead>\n",
       "  <tbody>\n",
       "    <tr>\n",
       "      <th>0</th>\n",
       "      <td>8691788.0</td>\n",
       "      <td>37249.0</td>\n",
       "      <td>Michelle Harrington</td>\n",
       "      <td>Ebony39@gmail.com</td>\n",
       "      <td>1.414787e+09</td>\n",
       "      <td>3959 Amanda Burgs</td>\n",
       "      <td>Dortmund</td>\n",
       "      <td>Berlin</td>\n",
       "      <td>77985.0</td>\n",
       "      <td>Germany</td>\n",
       "      <td>...</td>\n",
       "      <td>324.086270</td>\n",
       "      <td>Clothing</td>\n",
       "      <td>Nike</td>\n",
       "      <td>Shorts</td>\n",
       "      <td>Excellent</td>\n",
       "      <td>Same-Day</td>\n",
       "      <td>Debit Card</td>\n",
       "      <td>Shipped</td>\n",
       "      <td>5.0</td>\n",
       "      <td>Cycling shorts</td>\n",
       "    </tr>\n",
       "    <tr>\n",
       "      <th>1</th>\n",
       "      <td>2174773.0</td>\n",
       "      <td>69749.0</td>\n",
       "      <td>Kelsey Hill</td>\n",
       "      <td>Mark36@gmail.com</td>\n",
       "      <td>6.852900e+09</td>\n",
       "      <td>82072 Dawn Centers</td>\n",
       "      <td>Nottingham</td>\n",
       "      <td>England</td>\n",
       "      <td>99071.0</td>\n",
       "      <td>UK</td>\n",
       "      <td>...</td>\n",
       "      <td>806.707815</td>\n",
       "      <td>Electronics</td>\n",
       "      <td>Samsung</td>\n",
       "      <td>Tablet</td>\n",
       "      <td>Excellent</td>\n",
       "      <td>Standard</td>\n",
       "      <td>Credit Card</td>\n",
       "      <td>Processing</td>\n",
       "      <td>4.0</td>\n",
       "      <td>Lenovo Tab</td>\n",
       "    </tr>\n",
       "    <tr>\n",
       "      <th>2</th>\n",
       "      <td>6679610.0</td>\n",
       "      <td>30192.0</td>\n",
       "      <td>Scott Jensen</td>\n",
       "      <td>Shane85@gmail.com</td>\n",
       "      <td>8.362160e+09</td>\n",
       "      <td>4133 Young Canyon</td>\n",
       "      <td>Geelong</td>\n",
       "      <td>New South Wales</td>\n",
       "      <td>75929.0</td>\n",
       "      <td>Australia</td>\n",
       "      <td>...</td>\n",
       "      <td>1063.432799</td>\n",
       "      <td>Books</td>\n",
       "      <td>Penguin Books</td>\n",
       "      <td>Children's</td>\n",
       "      <td>Average</td>\n",
       "      <td>Same-Day</td>\n",
       "      <td>Credit Card</td>\n",
       "      <td>Processing</td>\n",
       "      <td>2.0</td>\n",
       "      <td>Sports equipment</td>\n",
       "    </tr>\n",
       "    <tr>\n",
       "      <th>3</th>\n",
       "      <td>7232460.0</td>\n",
       "      <td>62101.0</td>\n",
       "      <td>Joseph Miller</td>\n",
       "      <td>Mary34@gmail.com</td>\n",
       "      <td>2.776752e+09</td>\n",
       "      <td>8148 Thomas Creek Suite 100</td>\n",
       "      <td>Edmonton</td>\n",
       "      <td>Ontario</td>\n",
       "      <td>88420.0</td>\n",
       "      <td>Canada</td>\n",
       "      <td>...</td>\n",
       "      <td>2466.854021</td>\n",
       "      <td>Home Decor</td>\n",
       "      <td>Home Depot</td>\n",
       "      <td>Tools</td>\n",
       "      <td>Excellent</td>\n",
       "      <td>Standard</td>\n",
       "      <td>PayPal</td>\n",
       "      <td>Processing</td>\n",
       "      <td>4.0</td>\n",
       "      <td>Utility knife</td>\n",
       "    </tr>\n",
       "    <tr>\n",
       "      <th>4</th>\n",
       "      <td>4983775.0</td>\n",
       "      <td>27901.0</td>\n",
       "      <td>Debra Coleman</td>\n",
       "      <td>Charles30@gmail.com</td>\n",
       "      <td>9.098268e+09</td>\n",
       "      <td>5813 Lori Ports Suite 269</td>\n",
       "      <td>Bristol</td>\n",
       "      <td>England</td>\n",
       "      <td>48704.0</td>\n",
       "      <td>UK</td>\n",
       "      <td>...</td>\n",
       "      <td>248.553049</td>\n",
       "      <td>Grocery</td>\n",
       "      <td>Nestle</td>\n",
       "      <td>Chocolate</td>\n",
       "      <td>Bad</td>\n",
       "      <td>Standard</td>\n",
       "      <td>Cash</td>\n",
       "      <td>Shipped</td>\n",
       "      <td>1.0</td>\n",
       "      <td>Chocolate cookies</td>\n",
       "    </tr>\n",
       "  </tbody>\n",
       "</table>\n",
       "<p>5 rows × 30 columns</p>\n",
       "</div>"
      ],
      "text/plain": [
       "   Transaction_ID  Customer_ID                 Name                Email  \\\n",
       "0       8691788.0      37249.0  Michelle Harrington    Ebony39@gmail.com   \n",
       "1       2174773.0      69749.0          Kelsey Hill     Mark36@gmail.com   \n",
       "2       6679610.0      30192.0         Scott Jensen    Shane85@gmail.com   \n",
       "3       7232460.0      62101.0        Joseph Miller     Mary34@gmail.com   \n",
       "4       4983775.0      27901.0        Debra Coleman  Charles30@gmail.com   \n",
       "\n",
       "          Phone                      Address        City            State  \\\n",
       "0  1.414787e+09            3959 Amanda Burgs    Dortmund           Berlin   \n",
       "1  6.852900e+09           82072 Dawn Centers  Nottingham          England   \n",
       "2  8.362160e+09            4133 Young Canyon     Geelong  New South Wales   \n",
       "3  2.776752e+09  8148 Thomas Creek Suite 100    Edmonton          Ontario   \n",
       "4  9.098268e+09    5813 Lori Ports Suite 269     Bristol          England   \n",
       "\n",
       "   Zipcode    Country  ...  Total_Amount Product_Category  Product_Brand  \\\n",
       "0  77985.0    Germany  ...    324.086270         Clothing           Nike   \n",
       "1  99071.0         UK  ...    806.707815      Electronics        Samsung   \n",
       "2  75929.0  Australia  ...   1063.432799            Books  Penguin Books   \n",
       "3  88420.0     Canada  ...   2466.854021       Home Decor     Home Depot   \n",
       "4  48704.0         UK  ...    248.553049          Grocery         Nestle   \n",
       "\n",
       "  Product_Type   Feedback  Shipping_Method Payment_Method Order_Status  \\\n",
       "0       Shorts  Excellent         Same-Day     Debit Card      Shipped   \n",
       "1       Tablet  Excellent         Standard    Credit Card   Processing   \n",
       "2   Children's    Average         Same-Day    Credit Card   Processing   \n",
       "3        Tools  Excellent         Standard         PayPal   Processing   \n",
       "4    Chocolate        Bad         Standard           Cash      Shipped   \n",
       "\n",
       "   Ratings           products  \n",
       "0      5.0     Cycling shorts  \n",
       "1      4.0         Lenovo Tab  \n",
       "2      2.0   Sports equipment  \n",
       "3      4.0      Utility knife  \n",
       "4      1.0  Chocolate cookies  \n",
       "\n",
       "[5 rows x 30 columns]"
      ]
     },
     "execution_count": 2,
     "metadata": {},
     "output_type": "execute_result"
    }
   ],
   "source": [
    "# Loading the dataset\n",
    "dataset = pd.read_csv(\"Data/new_retail_data.csv\")\n",
    "\n",
    "# Printing the top 5 rows of the dataset\n",
    "dataset.head()"
   ]
  },
  {
   "cell_type": "code",
   "execution_count": 3,
   "metadata": {},
   "outputs": [
    {
     "name": "stdout",
     "output_type": "stream",
     "text": [
      "Shape of the dataset: (302010, 30)\n"
     ]
    }
   ],
   "source": [
    "init_shape = dataset.shape\n",
    "print(f\"Shape of the dataset: {init_shape}\")"
   ]
  },
  {
   "cell_type": "markdown",
   "metadata": {},
   "source": [
    "# Data Cleaning and Preprocessing"
   ]
  },
  {
   "cell_type": "markdown",
   "metadata": {},
   "source": [
    "1. Identification and Handling of Missing values"
   ]
  },
  {
   "cell_type": "code",
   "execution_count": 4,
   "metadata": {},
   "outputs": [
    {
     "name": "stdout",
     "output_type": "stream",
     "text": [
      "Number of missing values in the dataset: \n",
      "Transaction_ID      333\n",
      "Customer_ID         308\n",
      "Name                382\n",
      "Email               347\n",
      "Phone               362\n",
      "Address             315\n",
      "City                248\n",
      "State               281\n",
      "Zipcode             340\n",
      "Country             271\n",
      "Age                 173\n",
      "Gender              317\n",
      "Income              290\n",
      "Customer_Segment    215\n",
      "Date                359\n",
      "Year                350\n",
      "Month               273\n",
      "Time                350\n",
      "Total_Purchases     361\n",
      "Amount              357\n",
      "Total_Amount        350\n",
      "Product_Category    283\n",
      "Product_Brand       281\n",
      "Product_Type          0\n",
      "Feedback            184\n",
      "Shipping_Method     337\n",
      "Payment_Method      297\n",
      "Order_Status        235\n",
      "Ratings             184\n",
      "products              0\n",
      "dtype: int64\n"
     ]
    }
   ],
   "source": [
    "# Number of missing values in each column\n",
    "print(f\"Number of missing values in the dataset: \\n{dataset.isnull().sum()}\")"
   ]
  },
  {
   "cell_type": "code",
   "execution_count": 5,
   "metadata": {},
   "outputs": [],
   "source": [
    "# Handling the missing values according to their data types and their Distribution\n",
    "\n",
    "# Rows that needed to be dropped\n",
    "drop_rows = [\"Transaction_ID\", \"Customer_ID\", \"Name\",\n",
    "             \"Email\", \"Phone\", \"Address\", \"Date\", \"Year\",\n",
    "             \"Month\", \"Time\", \"Product_Brand\", \"Order_Status\"]\n",
    "for col in drop_rows:\n",
    "    dataset = dataset[dataset[col].notna()]\n",
    "\n",
    "# Categorical Columns  \n",
    "mode_col = [\"City\", \"State\", \"Zipcode\", \"Country\", \"Gender\", \"Income\",\n",
    "            \"Customer_Segment\", \"Total_Purchases\", \"Product_Category\",\n",
    "            \"Feedback\", \"Shipping_Method\", \"Payment_Method\"]\n",
    "for col in mode_col:\n",
    "    dataset[col] = dataset[col].fillna(dataset[col].mode()[0])\n",
    "\n",
    "# Continous Columns and that are sensetive to outliers\n",
    "median_col = [\"Age\", \"Amount\", \"Total_Amount\", \"Ratings\"]\n",
    "for col in median_col:\n",
    "    dataset[col] = dataset[col].fillna(dataset[col].median())"
   ]
  },
  {
   "cell_type": "code",
   "execution_count": 6,
   "metadata": {},
   "outputs": [
    {
     "name": "stdout",
     "output_type": "stream",
     "text": [
      "Shape of the dataset after handling missing values: (298141, 30)\n"
     ]
    }
   ],
   "source": [
    "print(f\"Shape of the dataset after handling missing values: {dataset.shape}\")"
   ]
  },
  {
   "cell_type": "code",
   "execution_count": 7,
   "metadata": {},
   "outputs": [
    {
     "name": "stdout",
     "output_type": "stream",
     "text": [
      "Number of the rows that are removed: 3869\n"
     ]
    }
   ],
   "source": [
    "print(f\"Number of the rows that are removed: {init_shape[0] - dataset.shape[0]}\")"
   ]
  },
  {
   "cell_type": "code",
   "execution_count": 8,
   "metadata": {},
   "outputs": [
    {
     "data": {
      "text/plain": [
       "Transaction_ID      0\n",
       "Customer_ID         0\n",
       "Name                0\n",
       "Email               0\n",
       "Phone               0\n",
       "Address             0\n",
       "City                0\n",
       "State               0\n",
       "Zipcode             0\n",
       "Country             0\n",
       "Age                 0\n",
       "Gender              0\n",
       "Income              0\n",
       "Customer_Segment    0\n",
       "Date                0\n",
       "Year                0\n",
       "Month               0\n",
       "Time                0\n",
       "Total_Purchases     0\n",
       "Amount              0\n",
       "Total_Amount        0\n",
       "Product_Category    0\n",
       "Product_Brand       0\n",
       "Product_Type        0\n",
       "Feedback            0\n",
       "Shipping_Method     0\n",
       "Payment_Method      0\n",
       "Order_Status        0\n",
       "Ratings             0\n",
       "products            0\n",
       "dtype: int64"
      ]
     },
     "execution_count": 8,
     "metadata": {},
     "output_type": "execute_result"
    }
   ],
   "source": [
    "# Data after handling missing values\n",
    "dataset.isnull().sum()"
   ]
  },
  {
   "cell_type": "markdown",
   "metadata": {},
   "source": [
    "2. Error Correction and Inconsistencies"
   ]
  },
  {
   "cell_type": "code",
   "execution_count": 9,
   "metadata": {},
   "outputs": [
    {
     "name": "stdout",
     "output_type": "stream",
     "text": [
      "Name of the columns: ['Transaction_ID' 'Customer_ID' 'Name' 'Email' 'Phone' 'Address' 'City'\n",
      " 'State' 'Zipcode' 'Country' 'Age' 'Gender' 'Income' 'Customer_Segment'\n",
      " 'Date' 'Year' 'Month' 'Time' 'Total_Purchases' 'Amount' 'Total_Amount'\n",
      " 'Product_Category' 'Product_Brand' 'Product_Type' 'Feedback'\n",
      " 'Shipping_Method' 'Payment_Method' 'Order_Status' 'Ratings' 'products']\n"
     ]
    }
   ],
   "source": [
    "print(f\"Name of the columns: {dataset.columns.values}\")"
   ]
  },
  {
   "cell_type": "markdown",
   "metadata": {},
   "source": [
    "Changing the name of few columns to make them meaningful"
   ]
  },
  {
   "cell_type": "code",
   "execution_count": 10,
   "metadata": {},
   "outputs": [],
   "source": [
    "dataset.rename(columns = {\n",
    "    \"Total_Purchases\": \"Quantity\",\n",
    "    \"Amount\": \"Price_per_unit\"\n",
    "}, inplace = True)"
   ]
  },
  {
   "cell_type": "code",
   "execution_count": 11,
   "metadata": {},
   "outputs": [
    {
     "data": {
      "text/html": [
       "<div>\n",
       "<style scoped>\n",
       "    .dataframe tbody tr th:only-of-type {\n",
       "        vertical-align: middle;\n",
       "    }\n",
       "\n",
       "    .dataframe tbody tr th {\n",
       "        vertical-align: top;\n",
       "    }\n",
       "\n",
       "    .dataframe thead th {\n",
       "        text-align: right;\n",
       "    }\n",
       "</style>\n",
       "<table border=\"1\" class=\"dataframe\">\n",
       "  <thead>\n",
       "    <tr style=\"text-align: right;\">\n",
       "      <th></th>\n",
       "      <th>Transaction_ID</th>\n",
       "      <th>Customer_ID</th>\n",
       "      <th>Phone</th>\n",
       "      <th>Zipcode</th>\n",
       "      <th>Age</th>\n",
       "      <th>Year</th>\n",
       "      <th>Quantity</th>\n",
       "      <th>Price_per_unit</th>\n",
       "      <th>Total_Amount</th>\n",
       "      <th>Ratings</th>\n",
       "    </tr>\n",
       "  </thead>\n",
       "  <tbody>\n",
       "    <tr>\n",
       "      <th>count</th>\n",
       "      <td>2.981410e+05</td>\n",
       "      <td>298141.000000</td>\n",
       "      <td>2.981410e+05</td>\n",
       "      <td>298141.000000</td>\n",
       "      <td>298141.000000</td>\n",
       "      <td>298141.000000</td>\n",
       "      <td>298141.000000</td>\n",
       "      <td>298141.000000</td>\n",
       "      <td>298141.000000</td>\n",
       "      <td>298141.000000</td>\n",
       "    </tr>\n",
       "    <tr>\n",
       "      <th>mean</th>\n",
       "      <td>5.494940e+06</td>\n",
       "      <td>55007.072902</td>\n",
       "      <td>5.500495e+09</td>\n",
       "      <td>50312.113359</td>\n",
       "      <td>35.478498</td>\n",
       "      <td>2023.165090</td>\n",
       "      <td>5.359431</td>\n",
       "      <td>255.194433</td>\n",
       "      <td>1367.431405</td>\n",
       "      <td>3.162618</td>\n",
       "    </tr>\n",
       "    <tr>\n",
       "      <th>std</th>\n",
       "      <td>2.596053e+06</td>\n",
       "      <td>26005.990411</td>\n",
       "      <td>2.595721e+09</td>\n",
       "      <td>28964.029875</td>\n",
       "      <td>15.015371</td>\n",
       "      <td>0.371262</td>\n",
       "      <td>2.866482</td>\n",
       "      <td>141.315801</td>\n",
       "      <td>1128.452562</td>\n",
       "      <td>1.320216</td>\n",
       "    </tr>\n",
       "    <tr>\n",
       "      <th>min</th>\n",
       "      <td>1.000007e+06</td>\n",
       "      <td>10000.000000</td>\n",
       "      <td>1.000049e+09</td>\n",
       "      <td>501.000000</td>\n",
       "      <td>18.000000</td>\n",
       "      <td>2023.000000</td>\n",
       "      <td>1.000000</td>\n",
       "      <td>10.000219</td>\n",
       "      <td>10.003750</td>\n",
       "      <td>1.000000</td>\n",
       "    </tr>\n",
       "    <tr>\n",
       "      <th>25%</th>\n",
       "      <td>3.246869e+06</td>\n",
       "      <td>32469.000000</td>\n",
       "      <td>3.254198e+09</td>\n",
       "      <td>25446.000000</td>\n",
       "      <td>22.000000</td>\n",
       "      <td>2023.000000</td>\n",
       "      <td>3.000000</td>\n",
       "      <td>133.032154</td>\n",
       "      <td>439.376483</td>\n",
       "      <td>2.000000</td>\n",
       "    </tr>\n",
       "    <tr>\n",
       "      <th>50%</th>\n",
       "      <td>5.497883e+06</td>\n",
       "      <td>55020.000000</td>\n",
       "      <td>5.504195e+09</td>\n",
       "      <td>50652.000000</td>\n",
       "      <td>32.000000</td>\n",
       "      <td>2023.000000</td>\n",
       "      <td>5.000000</td>\n",
       "      <td>255.497589</td>\n",
       "      <td>1041.252907</td>\n",
       "      <td>3.000000</td>\n",
       "    </tr>\n",
       "    <tr>\n",
       "      <th>75%</th>\n",
       "      <td>7.739315e+06</td>\n",
       "      <td>77506.000000</td>\n",
       "      <td>7.748878e+09</td>\n",
       "      <td>75212.000000</td>\n",
       "      <td>46.000000</td>\n",
       "      <td>2023.000000</td>\n",
       "      <td>8.000000</td>\n",
       "      <td>377.573261</td>\n",
       "      <td>2027.455133</td>\n",
       "      <td>4.000000</td>\n",
       "    </tr>\n",
       "    <tr>\n",
       "      <th>max</th>\n",
       "      <td>9.999995e+06</td>\n",
       "      <td>99999.000000</td>\n",
       "      <td>9.999996e+09</td>\n",
       "      <td>99949.000000</td>\n",
       "      <td>70.000000</td>\n",
       "      <td>2024.000000</td>\n",
       "      <td>10.000000</td>\n",
       "      <td>499.997911</td>\n",
       "      <td>4999.625796</td>\n",
       "      <td>5.000000</td>\n",
       "    </tr>\n",
       "  </tbody>\n",
       "</table>\n",
       "</div>"
      ],
      "text/plain": [
       "       Transaction_ID    Customer_ID         Phone        Zipcode  \\\n",
       "count    2.981410e+05  298141.000000  2.981410e+05  298141.000000   \n",
       "mean     5.494940e+06   55007.072902  5.500495e+09   50312.113359   \n",
       "std      2.596053e+06   26005.990411  2.595721e+09   28964.029875   \n",
       "min      1.000007e+06   10000.000000  1.000049e+09     501.000000   \n",
       "25%      3.246869e+06   32469.000000  3.254198e+09   25446.000000   \n",
       "50%      5.497883e+06   55020.000000  5.504195e+09   50652.000000   \n",
       "75%      7.739315e+06   77506.000000  7.748878e+09   75212.000000   \n",
       "max      9.999995e+06   99999.000000  9.999996e+09   99949.000000   \n",
       "\n",
       "                 Age           Year       Quantity  Price_per_unit  \\\n",
       "count  298141.000000  298141.000000  298141.000000   298141.000000   \n",
       "mean       35.478498    2023.165090       5.359431      255.194433   \n",
       "std        15.015371       0.371262       2.866482      141.315801   \n",
       "min        18.000000    2023.000000       1.000000       10.000219   \n",
       "25%        22.000000    2023.000000       3.000000      133.032154   \n",
       "50%        32.000000    2023.000000       5.000000      255.497589   \n",
       "75%        46.000000    2023.000000       8.000000      377.573261   \n",
       "max        70.000000    2024.000000      10.000000      499.997911   \n",
       "\n",
       "        Total_Amount        Ratings  \n",
       "count  298141.000000  298141.000000  \n",
       "mean     1367.431405       3.162618  \n",
       "std      1128.452562       1.320216  \n",
       "min        10.003750       1.000000  \n",
       "25%       439.376483       2.000000  \n",
       "50%      1041.252907       3.000000  \n",
       "75%      2027.455133       4.000000  \n",
       "max      4999.625796       5.000000  "
      ]
     },
     "execution_count": 11,
     "metadata": {},
     "output_type": "execute_result"
    }
   ],
   "source": [
    "dataset.describe()"
   ]
  },
  {
   "cell_type": "markdown",
   "metadata": {},
   "source": [
    "The Mean and Median of all the Numerical columns are almost identical (except: Total_Amount), it means:\n",
    "- Symmetry in Data Distribution: It indicates that the data is likely symmetrically distributed around the central value.\n",
    "- Lack of Skewness: it suggests that the distribution has little to no skew.\n",
    "- Robustness to Outliers: It implies that there are no extreme outliers."
   ]
  },
  {
   "cell_type": "code",
   "execution_count": 12,
   "metadata": {},
   "outputs": [
    {
     "name": "stdout",
     "output_type": "stream",
     "text": [
      "<class 'pandas.core.frame.DataFrame'>\n",
      "Index: 298141 entries, 0 to 302009\n",
      "Data columns (total 30 columns):\n",
      " #   Column            Non-Null Count   Dtype  \n",
      "---  ------            --------------   -----  \n",
      " 0   Transaction_ID    298141 non-null  float64\n",
      " 1   Customer_ID       298141 non-null  float64\n",
      " 2   Name              298141 non-null  object \n",
      " 3   Email             298141 non-null  object \n",
      " 4   Phone             298141 non-null  float64\n",
      " 5   Address           298141 non-null  object \n",
      " 6   City              298141 non-null  object \n",
      " 7   State             298141 non-null  object \n",
      " 8   Zipcode           298141 non-null  float64\n",
      " 9   Country           298141 non-null  object \n",
      " 10  Age               298141 non-null  float64\n",
      " 11  Gender            298141 non-null  object \n",
      " 12  Income            298141 non-null  object \n",
      " 13  Customer_Segment  298141 non-null  object \n",
      " 14  Date              298141 non-null  object \n",
      " 15  Year              298141 non-null  float64\n",
      " 16  Month             298141 non-null  object \n",
      " 17  Time              298141 non-null  object \n",
      " 18  Quantity          298141 non-null  float64\n",
      " 19  Price_per_unit    298141 non-null  float64\n",
      " 20  Total_Amount      298141 non-null  float64\n",
      " 21  Product_Category  298141 non-null  object \n",
      " 22  Product_Brand     298141 non-null  object \n",
      " 23  Product_Type      298141 non-null  object \n",
      " 24  Feedback          298141 non-null  object \n",
      " 25  Shipping_Method   298141 non-null  object \n",
      " 26  Payment_Method    298141 non-null  object \n",
      " 27  Order_Status      298141 non-null  object \n",
      " 28  Ratings           298141 non-null  float64\n",
      " 29  products          298141 non-null  object \n",
      "dtypes: float64(10), object(20)\n",
      "memory usage: 70.5+ MB\n"
     ]
    }
   ],
   "source": [
    "dataset.info()"
   ]
  },
  {
   "cell_type": "markdown",
   "metadata": {},
   "source": [
    "Unique values in the Categorical columns"
   ]
  },
  {
   "cell_type": "code",
   "execution_count": 13,
   "metadata": {},
   "outputs": [
    {
     "name": "stdout",
     "output_type": "stream",
     "text": [
      "Unique values in Gender: ['Male' 'Female']\n",
      "----------------------------------------------------------------------------------------------------\n",
      "Unique values in Customer_Segment: ['Regular' 'Premium' 'New']\n",
      "----------------------------------------------------------------------------------------------------\n",
      "Unique values in Product_Category: ['Clothing' 'Electronics' 'Books' 'Home Decor' 'Grocery']\n",
      "----------------------------------------------------------------------------------------------------\n",
      "Unique values in Product_Brand: ['Nike' 'Samsung' 'Penguin Books' 'Home Depot' 'Nestle' 'Apple' 'Zara'\n",
      " 'Random House' 'Coca-Cola' 'Adidas' 'Pepsi' 'IKEA' 'HarperCollins'\n",
      " 'Bed Bath & Beyond' 'Sony' 'Whirepool' 'Mitsubhisi' 'BlueStar']\n",
      "----------------------------------------------------------------------------------------------------\n",
      "Unique values in Product_Type: ['Shorts' 'Tablet' \"Children's\" 'Tools' 'Chocolate' 'Television' 'Shirt'\n",
      " 'Decorations' 'Non-Fiction' 'Water' 'Snacks' 'T-shirt' 'Literature'\n",
      " 'Juice' 'Furniture' 'Coffee' 'Bathroom' 'Kitchen' 'Smartphone' 'Shoes'\n",
      " 'Thriller' 'Soft Drink' 'Laptop' 'Dress' 'Headphones' 'Lighting'\n",
      " 'Bedding' 'Jacket' 'Fiction' 'Jeans' 'Fridge'\n",
      " 'Mitsubishi 1.5 Ton 3 Star Split AC' 'BlueStar AC']\n",
      "----------------------------------------------------------------------------------------------------\n",
      "Unique values in Feedback: ['Excellent' 'Average' 'Bad' 'Good']\n",
      "----------------------------------------------------------------------------------------------------\n",
      "Unique values in Shipping_Method: ['Same-Day' 'Standard' 'Express']\n",
      "----------------------------------------------------------------------------------------------------\n",
      "Unique values in Payment_Method: ['Debit Card' 'Credit Card' 'PayPal' 'Cash']\n",
      "----------------------------------------------------------------------------------------------------\n",
      "Unique values in Order_Status: ['Shipped' 'Processing' 'Pending' 'Delivered']\n",
      "----------------------------------------------------------------------------------------------------\n"
     ]
    }
   ],
   "source": [
    "cat_cols = [\"Gender\", \"Customer_Segment\", \"Product_Category\", \"Product_Brand\",\n",
    "            \"Product_Type\", \"Feedback\", \"Shipping_Method\", \"Payment_Method\", \"Order_Status\"]\n",
    "for col in cat_cols:\n",
    "    print(f\"Unique values in {col}: {dataset[col].unique()}\")\n",
    "    print(\"-\"*100)"
   ]
  },
  {
   "cell_type": "code",
   "execution_count": 14,
   "metadata": {},
   "outputs": [],
   "source": [
    "data_rename = [\"Product_Category\", \"Product_Brand\", \"Product_Type\", \"Payment_Method\"]\n",
    "\n",
    "for col in data_rename:\n",
    "    dataset[col] = dataset[col].str.replace(\" \", \"_\")"
   ]
  },
  {
   "cell_type": "code",
   "execution_count": 15,
   "metadata": {},
   "outputs": [
    {
     "name": "stdout",
     "output_type": "stream",
     "text": [
      "Unique values in Gender: ['Male' 'Female']\n",
      "----------------------------------------------------------------------------------------------------\n",
      "Unique values in Customer_Segment: ['Regular' 'Premium' 'New']\n",
      "----------------------------------------------------------------------------------------------------\n",
      "Unique values in Product_Category: ['Clothing' 'Electronics' 'Books' 'Home_Decor' 'Grocery']\n",
      "----------------------------------------------------------------------------------------------------\n",
      "Unique values in Product_Brand: ['Nike' 'Samsung' 'Penguin_Books' 'Home_Depot' 'Nestle' 'Apple' 'Zara'\n",
      " 'Random_House' 'Coca-Cola' 'Adidas' 'Pepsi' 'IKEA' 'HarperCollins'\n",
      " 'Bed_Bath_&_Beyond' 'Sony' 'Whirepool' 'Mitsubhisi' 'BlueStar']\n",
      "----------------------------------------------------------------------------------------------------\n",
      "Unique values in Product_Type: ['Shorts' 'Tablet' \"Children's\" 'Tools' 'Chocolate' 'Television' 'Shirt'\n",
      " 'Decorations' 'Non-Fiction' 'Water' 'Snacks' 'T-shirt' 'Literature'\n",
      " 'Juice' 'Furniture' 'Coffee' 'Bathroom' 'Kitchen' 'Smartphone' 'Shoes'\n",
      " 'Thriller' 'Soft_Drink' 'Laptop' 'Dress' 'Headphones' 'Lighting'\n",
      " 'Bedding' 'Jacket' 'Fiction' 'Jeans' 'Fridge'\n",
      " 'Mitsubishi_1.5_Ton_3_Star_Split_AC' 'BlueStar_AC']\n",
      "----------------------------------------------------------------------------------------------------\n",
      "Unique values in Feedback: ['Excellent' 'Average' 'Bad' 'Good']\n",
      "----------------------------------------------------------------------------------------------------\n",
      "Unique values in Shipping_Method: ['Same-Day' 'Standard' 'Express']\n",
      "----------------------------------------------------------------------------------------------------\n",
      "Unique values in Payment_Method: ['Debit_Card' 'Credit_Card' 'PayPal' 'Cash']\n",
      "----------------------------------------------------------------------------------------------------\n",
      "Unique values in Order_Status: ['Shipped' 'Processing' 'Pending' 'Delivered']\n",
      "----------------------------------------------------------------------------------------------------\n"
     ]
    }
   ],
   "source": [
    "for col in cat_cols:\n",
    "    print(f\"Unique values in {col}: {dataset[col].unique()}\")\n",
    "    print(\"-\"*100)"
   ]
  },
  {
   "cell_type": "markdown",
   "metadata": {},
   "source": [
    "Now, we will reduce the number of decimal places in a few columns.\n",
    "\n",
    "#### Why We Do This Step\n",
    "Reducing the number of decimal places can be important for several reasons:\n",
    "\n",
    "- Readability: Fewer decimal places can make the data easier to read and interpret.\n",
    "- Data Storage: Reducing the number of decimal places can slightly reduce the storage requirements of the dataset.\n",
    "- Consistency: Ensuring that numerical data is presented consistently across different columns and datasets."
   ]
  },
  {
   "cell_type": "code",
   "execution_count": 17,
   "metadata": {},
   "outputs": [],
   "source": [
    "# Name of the columns that have multiple values after the decimal\n",
    "round_col = [\"Price_per_unit\", \"Total_Amount\"]\n",
    "\n",
    "# We will be rounding off the values to 2 decimals\n",
    "for col in round_col:\n",
    "    dataset[col] = dataset[col].round(2)"
   ]
  },
  {
   "cell_type": "code",
   "execution_count": 18,
   "metadata": {},
   "outputs": [
    {
     "name": "stdout",
     "output_type": "stream",
     "text": [
      "Number of unique columns in each column: \n",
      "Transaction_ID: 291071\n",
      "Customer_ID: 86641\n",
      "Name: 158185\n",
      "Email: 52740\n",
      "Phone: 295810\n",
      "Address: 295798\n",
      "City: 130\n",
      "State: 54\n",
      "Zipcode: 93789\n",
      "Country: 5\n",
      "Age: 53\n",
      "Gender: 2\n",
      "Income: 3\n",
      "Customer_Segment: 3\n",
      "Date: 366\n",
      "Year: 2\n",
      "Month: 12\n",
      "Time: 83579\n",
      "Quantity: 10\n",
      "Price_per_unit: 48879\n",
      "Total_Amount: 191765\n",
      "Product_Category: 5\n",
      "Product_Brand: 18\n",
      "Product_Type: 33\n",
      "Feedback: 4\n",
      "Shipping_Method: 3\n",
      "Payment_Method: 4\n",
      "Order_Status: 4\n",
      "Ratings: 5\n",
      "products: 318\n"
     ]
    }
   ],
   "source": [
    "print(\"Number of unique columns in each column: \")\n",
    "for col in dataset.columns:\n",
    "    print(f\"{col}: {len(dataset[col].unique())}\")"
   ]
  },
  {
   "cell_type": "code",
   "execution_count": null,
   "metadata": {},
   "outputs": [],
   "source": []
  }
 ],
 "metadata": {
  "kernelspec": {
   "display_name": "Python 3",
   "language": "python",
   "name": "python3"
  },
  "language_info": {
   "codemirror_mode": {
    "name": "ipython",
    "version": 3
   },
   "file_extension": ".py",
   "mimetype": "text/x-python",
   "name": "python",
   "nbconvert_exporter": "python",
   "pygments_lexer": "ipython3",
   "version": "3.11.8"
  }
 },
 "nbformat": 4,
 "nbformat_minor": 2
}
